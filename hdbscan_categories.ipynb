{
 "cells": [
  {
   "cell_type": "markdown",
   "metadata": {},
   "source": [
    "# Clustering based on BYTES, PACKETS, DURATION"
   ]
  },
  {
   "cell_type": "markdown",
   "metadata": {},
   "source": "## Preparing a dataset"
  },
  {
   "cell_type": "markdown",
   "metadata": {},
   "source": [
    "Load the dataset."
   ]
  },
  {
   "cell_type": "code",
   "metadata": {
    "ExecuteTime": {
     "end_time": "2024-10-22T11:03:57.316400Z",
     "start_time": "2024-10-22T11:03:56.080197Z"
    }
   },
   "source": [
    "from cesnet_datazoo.datasets import CESNET_QUIC22, CESNET_TLS22\n",
    "\n",
    "dataset = CESNET_QUIC22(data_root=\"data/CESNET_QUIC22/\", size=\"XS\", silent=True)"
   ],
   "outputs": [],
   "execution_count": 145
  },
  {
   "cell_type": "markdown",
   "metadata": {},
   "source": [
    "Prepare the dataset with config and see its columns."
   ]
  },
  {
   "cell_type": "code",
   "metadata": {
    "ExecuteTime": {
     "end_time": "2024-10-22T11:04:29.834412Z",
     "start_time": "2024-10-22T11:03:57.341251Z"
    }
   },
   "source": [
    "from cesnet_datazoo.config import DatasetConfig, AppSelection\n",
    "\n",
    "dataset_config = DatasetConfig(\n",
    "    dataset=dataset,\n",
    "    train_period_name=\"W-2022-44\",\n",
    "    train_size=100_000,\n",
    "    random_state=42,\n",
    "    use_packet_histograms=True,\n",
    ")\n",
    "dataset.set_dataset_config_and_initialize(dataset_config)\n",
    "data_df = dataset.get_train_df()\n",
    "data_df.columns"
   ],
   "outputs": [
    {
     "data": {
      "text/plain": [
       "Index(['PPI', 'BYTES', 'BYTES_REV', 'PACKETS', 'PACKETS_REV', 'DURATION',\n",
       "       'PPI_LEN', 'PPI_ROUNDTRIPS', 'PPI_DURATION', 'FLOW_ENDREASON_IDLE',\n",
       "       'FLOW_ENDREASON_ACTIVE', 'FLOW_ENDREASON_OTHER', 'PSIZE_BIN1',\n",
       "       'PSIZE_BIN2', 'PSIZE_BIN3', 'PSIZE_BIN4', 'PSIZE_BIN5', 'PSIZE_BIN6',\n",
       "       'PSIZE_BIN7', 'PSIZE_BIN8', 'PSIZE_BIN1_REV', 'PSIZE_BIN2_REV',\n",
       "       'PSIZE_BIN3_REV', 'PSIZE_BIN4_REV', 'PSIZE_BIN5_REV', 'PSIZE_BIN6_REV',\n",
       "       'PSIZE_BIN7_REV', 'PSIZE_BIN8_REV', 'IPT_BIN1', 'IPT_BIN2', 'IPT_BIN3',\n",
       "       'IPT_BIN4', 'IPT_BIN5', 'IPT_BIN6', 'IPT_BIN7', 'IPT_BIN8',\n",
       "       'IPT_BIN1_REV', 'IPT_BIN2_REV', 'IPT_BIN3_REV', 'IPT_BIN4_REV',\n",
       "       'IPT_BIN5_REV', 'IPT_BIN6_REV', 'IPT_BIN7_REV', 'IPT_BIN8_REV', 'APP'],\n",
       "      dtype='object')"
      ]
     },
     "execution_count": 146,
     "metadata": {},
     "output_type": "execute_result"
    }
   ],
   "execution_count": 146
  },
  {
   "cell_type": "markdown",
   "metadata": {},
   "source": [
    "Get only the columns that are needed for clustering."
   ]
  },
  {
   "cell_type": "code",
   "metadata": {
    "ExecuteTime": {
     "end_time": "2024-10-22T11:04:29.943181Z",
     "start_time": "2024-10-22T11:04:29.935363Z"
    }
   },
   "source": [
    "import numpy as np\n",
    "\n",
    "features_array = data_df[[\"PACKETS\", \"PACKETS_REV\", \"BYTES\", \"BYTES_REV\", \"DURATION\"]].to_numpy()\n",
    "correct_clusters_array = data_df[[\"APP\"]].to_numpy().reshape(-1)"
   ],
   "outputs": [],
   "execution_count": 147
  },
  {
   "metadata": {},
   "cell_type": "markdown",
   "source": "## Analysis"
  },
  {
   "metadata": {},
   "cell_type": "markdown",
   "source": "Discover statistics of the dataset."
  },
  {
   "metadata": {
    "ExecuteTime": {
     "end_time": "2024-10-22T11:04:30.038991Z",
     "start_time": "2024-10-22T11:04:29.999521Z"
    }
   },
   "cell_type": "code",
   "source": "data_df[[\"PACKETS\", \"PACKETS_REV\", \"BYTES\", \"BYTES_REV\", \"DURATION\"]].describe()",
   "outputs": [
    {
     "data": {
      "text/plain": [
       "             PACKETS    PACKETS_REV         BYTES     BYTES_REV       DURATION\n",
       "count  100000.000000  100000.000000  1.000000e+05  1.000000e+05  100000.000000\n",
       "mean       56.008869     158.103989  2.914287e+04  1.765262e+05       9.472006\n",
       "std      2063.250000    2532.477295  2.526515e+06  3.131790e+06      29.747881\n",
       "min         1.000000       1.000000  1.228000e+03  7.500000e+01       0.000245\n",
       "25%         8.000000       9.000000  2.723000e+03  3.231000e+03       0.095063\n",
       "50%        12.000000      13.000000  4.175000e+03  5.261000e+03       0.220863\n",
       "75%        22.000000      24.000000  7.142000e+03  1.057500e+04       5.029546\n",
       "max    542482.000000  613033.000000  6.843229e+08  7.610185e+08     356.115967"
      ],
      "text/html": [
       "<div>\n",
       "<style scoped>\n",
       "    .dataframe tbody tr th:only-of-type {\n",
       "        vertical-align: middle;\n",
       "    }\n",
       "\n",
       "    .dataframe tbody tr th {\n",
       "        vertical-align: top;\n",
       "    }\n",
       "\n",
       "    .dataframe thead th {\n",
       "        text-align: right;\n",
       "    }\n",
       "</style>\n",
       "<table border=\"1\" class=\"dataframe\">\n",
       "  <thead>\n",
       "    <tr style=\"text-align: right;\">\n",
       "      <th></th>\n",
       "      <th>PACKETS</th>\n",
       "      <th>PACKETS_REV</th>\n",
       "      <th>BYTES</th>\n",
       "      <th>BYTES_REV</th>\n",
       "      <th>DURATION</th>\n",
       "    </tr>\n",
       "  </thead>\n",
       "  <tbody>\n",
       "    <tr>\n",
       "      <th>count</th>\n",
       "      <td>100000.000000</td>\n",
       "      <td>100000.000000</td>\n",
       "      <td>1.000000e+05</td>\n",
       "      <td>1.000000e+05</td>\n",
       "      <td>100000.000000</td>\n",
       "    </tr>\n",
       "    <tr>\n",
       "      <th>mean</th>\n",
       "      <td>56.008869</td>\n",
       "      <td>158.103989</td>\n",
       "      <td>2.914287e+04</td>\n",
       "      <td>1.765262e+05</td>\n",
       "      <td>9.472006</td>\n",
       "    </tr>\n",
       "    <tr>\n",
       "      <th>std</th>\n",
       "      <td>2063.250000</td>\n",
       "      <td>2532.477295</td>\n",
       "      <td>2.526515e+06</td>\n",
       "      <td>3.131790e+06</td>\n",
       "      <td>29.747881</td>\n",
       "    </tr>\n",
       "    <tr>\n",
       "      <th>min</th>\n",
       "      <td>1.000000</td>\n",
       "      <td>1.000000</td>\n",
       "      <td>1.228000e+03</td>\n",
       "      <td>7.500000e+01</td>\n",
       "      <td>0.000245</td>\n",
       "    </tr>\n",
       "    <tr>\n",
       "      <th>25%</th>\n",
       "      <td>8.000000</td>\n",
       "      <td>9.000000</td>\n",
       "      <td>2.723000e+03</td>\n",
       "      <td>3.231000e+03</td>\n",
       "      <td>0.095063</td>\n",
       "    </tr>\n",
       "    <tr>\n",
       "      <th>50%</th>\n",
       "      <td>12.000000</td>\n",
       "      <td>13.000000</td>\n",
       "      <td>4.175000e+03</td>\n",
       "      <td>5.261000e+03</td>\n",
       "      <td>0.220863</td>\n",
       "    </tr>\n",
       "    <tr>\n",
       "      <th>75%</th>\n",
       "      <td>22.000000</td>\n",
       "      <td>24.000000</td>\n",
       "      <td>7.142000e+03</td>\n",
       "      <td>1.057500e+04</td>\n",
       "      <td>5.029546</td>\n",
       "    </tr>\n",
       "    <tr>\n",
       "      <th>max</th>\n",
       "      <td>542482.000000</td>\n",
       "      <td>613033.000000</td>\n",
       "      <td>6.843229e+08</td>\n",
       "      <td>7.610185e+08</td>\n",
       "      <td>356.115967</td>\n",
       "    </tr>\n",
       "  </tbody>\n",
       "</table>\n",
       "</div>"
      ]
     },
     "execution_count": 148,
     "metadata": {},
     "output_type": "execute_result"
    }
   ],
   "execution_count": 148
  },
  {
   "metadata": {},
   "cell_type": "markdown",
   "source": "See the head of the dataset."
  },
  {
   "metadata": {
    "ExecuteTime": {
     "end_time": "2024-10-22T11:04:30.151499Z",
     "start_time": "2024-10-22T11:04:30.137515Z"
    }
   },
   "cell_type": "code",
   "source": "data_df[[\"PACKETS\", \"PACKETS_REV\", \"BYTES\", \"BYTES_REV\", \"DURATION\", \"APP\"]].head()",
   "outputs": [
    {
     "data": {
      "text/plain": [
       "   PACKETS  PACKETS_REV    BYTES  BYTES_REV   DURATION  APP\n",
       "0      7.0          7.0   3348.0     2629.0   0.077457   46\n",
       "1     19.0         16.0  11497.0     5455.0  11.037943   55\n",
       "2     15.0         15.0   2960.0     3294.0  20.286648   59\n",
       "3      9.0          9.0   2344.0     2908.0   0.152990   59\n",
       "4     14.0         16.0   4730.0     6096.0   0.391677   60"
      ],
      "text/html": [
       "<div>\n",
       "<style scoped>\n",
       "    .dataframe tbody tr th:only-of-type {\n",
       "        vertical-align: middle;\n",
       "    }\n",
       "\n",
       "    .dataframe tbody tr th {\n",
       "        vertical-align: top;\n",
       "    }\n",
       "\n",
       "    .dataframe thead th {\n",
       "        text-align: right;\n",
       "    }\n",
       "</style>\n",
       "<table border=\"1\" class=\"dataframe\">\n",
       "  <thead>\n",
       "    <tr style=\"text-align: right;\">\n",
       "      <th></th>\n",
       "      <th>PACKETS</th>\n",
       "      <th>PACKETS_REV</th>\n",
       "      <th>BYTES</th>\n",
       "      <th>BYTES_REV</th>\n",
       "      <th>DURATION</th>\n",
       "      <th>APP</th>\n",
       "    </tr>\n",
       "  </thead>\n",
       "  <tbody>\n",
       "    <tr>\n",
       "      <th>0</th>\n",
       "      <td>7.0</td>\n",
       "      <td>7.0</td>\n",
       "      <td>3348.0</td>\n",
       "      <td>2629.0</td>\n",
       "      <td>0.077457</td>\n",
       "      <td>46</td>\n",
       "    </tr>\n",
       "    <tr>\n",
       "      <th>1</th>\n",
       "      <td>19.0</td>\n",
       "      <td>16.0</td>\n",
       "      <td>11497.0</td>\n",
       "      <td>5455.0</td>\n",
       "      <td>11.037943</td>\n",
       "      <td>55</td>\n",
       "    </tr>\n",
       "    <tr>\n",
       "      <th>2</th>\n",
       "      <td>15.0</td>\n",
       "      <td>15.0</td>\n",
       "      <td>2960.0</td>\n",
       "      <td>3294.0</td>\n",
       "      <td>20.286648</td>\n",
       "      <td>59</td>\n",
       "    </tr>\n",
       "    <tr>\n",
       "      <th>3</th>\n",
       "      <td>9.0</td>\n",
       "      <td>9.0</td>\n",
       "      <td>2344.0</td>\n",
       "      <td>2908.0</td>\n",
       "      <td>0.152990</td>\n",
       "      <td>59</td>\n",
       "    </tr>\n",
       "    <tr>\n",
       "      <th>4</th>\n",
       "      <td>14.0</td>\n",
       "      <td>16.0</td>\n",
       "      <td>4730.0</td>\n",
       "      <td>6096.0</td>\n",
       "      <td>0.391677</td>\n",
       "      <td>60</td>\n",
       "    </tr>\n",
       "  </tbody>\n",
       "</table>\n",
       "</div>"
      ]
     },
     "execution_count": 149,
     "metadata": {},
     "output_type": "execute_result"
    }
   ],
   "execution_count": 149
  },
  {
   "metadata": {},
   "cell_type": "markdown",
   "source": "## Categorization of original classes"
  },
  {
   "metadata": {
    "ExecuteTime": {
     "end_time": "2024-10-22T11:04:30.308567Z",
     "start_time": "2024-10-22T11:04:30.271989Z"
    }
   },
   "cell_type": "code",
   "source": [
    "categories_enum = {category: i for i, category in dataset._tables_cat_enum.items()}\n",
    "app_to_categories = dataset.class_info.categories_mapping\n",
    "app_enum = {i: app for i, app in dataset._tables_app_enum.items()}\n",
    "app_to_categories.update({\n",
    "    \"bongacams\": \"Streaming media\",\n",
    "    \"gothbb\": \"E-commerce\",\n",
    "    \"vkontakte\": \"Social\",\n",
    "    \"poe-ninja\": \"Games\",\n",
    "    \"unpkg\": \"Streaming media\",\n",
    "    \"easylist\": \"Other services and APIs\",\n",
    "    \"default-background\": \"default\",\n",
    "    \"uber\": \"Other services and APIs\",\n",
    "})\n",
    "\n",
    "correct_categories_array = np.array([categories_enum[app_to_categories[app_enum[app]]] for app in correct_clusters_array])"
   ],
   "outputs": [],
   "execution_count": 150
  },
  {
   "metadata": {
    "ExecuteTime": {
     "end_time": "2024-10-22T11:04:30.387704Z",
     "start_time": "2024-10-22T11:04:30.382648Z"
    }
   },
   "cell_type": "code",
   "source": "correct_clusters_array = correct_categories_array",
   "outputs": [],
   "execution_count": 151
  },
  {
   "metadata": {},
   "cell_type": "markdown",
   "source": "## Preprocessing"
  },
  {
   "metadata": {},
   "cell_type": "markdown",
   "source": "Define a pipeline for preprocessing."
  },
  {
   "metadata": {
    "ExecuteTime": {
     "end_time": "2024-10-22T11:04:30.473212Z",
     "start_time": "2024-10-22T11:04:30.452611Z"
    }
   },
   "cell_type": "code",
   "source": [
    "from sklearn.pipeline import Pipeline\n",
    "from sklearn.preprocessing import StandardScaler\n",
    "from sklearn.decomposition import PCA\n",
    "\n",
    "preprocessing_pipeline = Pipeline([\n",
    "    ('scaler', StandardScaler()),\n",
    "    ('pca', PCA(n_components=2)),\n",
    "])\n",
    "\n",
    "preprocessed_array = preprocessing_pipeline.fit_transform(features_array)"
   ],
   "outputs": [],
   "execution_count": 152
  },
  {
   "metadata": {},
   "cell_type": "markdown",
   "source": "## Clustering"
  },
  {
   "metadata": {},
   "cell_type": "markdown",
   "source": "Define function for DBSCAN clustering."
  },
  {
   "cell_type": "code",
   "metadata": {
    "ExecuteTime": {
     "end_time": "2024-10-22T11:04:30.550533Z",
     "start_time": "2024-10-22T11:04:30.542664Z"
    }
   },
   "source": [
    "from sklearn.cluster import DBSCAN, HDBSCAN\n",
    "\n",
    "def dbscan_clustering(data, eps=0.1, min_samples=5):\n",
    "    return DBSCAN(eps=eps, min_samples=min_samples).fit(data)\n",
    "\n",
    "def hdbscan_clustering(data, min_cluster_size=5, min_samples=5):\n",
    "    return HDBSCAN(min_cluster_size=min_cluster_size, min_samples=min_samples).fit(data)"
   ],
   "outputs": [],
   "execution_count": 153
  },
  {
   "metadata": {},
   "cell_type": "markdown",
   "source": "Perform DBSCAN clustering."
  },
  {
   "metadata": {
    "ExecuteTime": {
     "end_time": "2024-10-22T11:05:45.998651Z",
     "start_time": "2024-10-22T11:04:30.623637Z"
    }
   },
   "cell_type": "code",
   "source": [
    "model = hdbscan_clustering(preprocessed_array, 400)\n",
    "labels = model.labels_[:]"
   ],
   "outputs": [],
   "execution_count": 154
  },
  {
   "metadata": {},
   "cell_type": "markdown",
   "source": "## Postprocessing"
  },
  {
   "metadata": {},
   "cell_type": "markdown",
   "source": "Remove outliers."
  },
  {
   "metadata": {
    "ExecuteTime": {
     "end_time": "2024-10-22T11:05:46.053671Z",
     "start_time": "2024-10-22T11:05:46.048477Z"
    }
   },
   "cell_type": "code",
   "source": [
    "import numpy as np\n",
    "\n",
    "outliers = np.where(model.labels_ == -1)\n",
    "# no_outliers_array = np.delete(preprocessed_array, outliers, axis=0)\n",
    "# no_outliers_clusters_app = np.delete(correct_clusters_array, outliers)\n",
    "# no_outliers_labels = np.delete(model.labels_, outliers)\n",
    "\n",
    "print(f\"Number of outliers: {len(outliers[0])}\")"
   ],
   "outputs": [
    {
     "name": "stdout",
     "output_type": "stream",
     "text": [
      "Number of outliers: 66335\n"
     ]
    }
   ],
   "execution_count": 155
  },
  {
   "metadata": {},
   "cell_type": "markdown",
   "source": "## Evaluation"
  },
  {
   "metadata": {},
   "cell_type": "markdown",
   "source": "### Homogeneity, completeness and V-measure"
  },
  {
   "metadata": {
    "ExecuteTime": {
     "end_time": "2024-10-22T11:05:46.178321Z",
     "start_time": "2024-10-22T11:05:46.145968Z"
    }
   },
   "cell_type": "code",
   "source": [
    "from sklearn.metrics import homogeneity_completeness_v_measure\n",
    "\n",
    "homogeneity, completeness, v_measure = homogeneity_completeness_v_measure(correct_clusters_array, labels)\n",
    "f\"Homogeneity (each cluster contains only members of a single class): {homogeneity}\", f\"Completeness (all members of a given class are assigned to the same cluster): {completeness}\", f\"V-measure: {v_measure}\""
   ],
   "outputs": [
    {
     "data": {
      "text/plain": [
       "('Homogeneity (each cluster contains only members of a single class): 0.07895366124492086',\n",
       " 'Completeness (all members of a given class are assigned to the same cluster): 0.08600552371757963',\n",
       " 'V-measure: 0.08232886197071639')"
      ]
     },
     "execution_count": 156,
     "metadata": {},
     "output_type": "execute_result"
    }
   ],
   "execution_count": 156
  },
  {
   "metadata": {},
   "cell_type": "markdown",
   "source": "### Fowlkes-Mallows index"
  },
  {
   "metadata": {
    "ExecuteTime": {
     "end_time": "2024-10-22T11:05:46.250758Z",
     "start_time": "2024-10-22T11:05:46.227064Z"
    }
   },
   "cell_type": "code",
   "source": [
    "from sklearn.metrics import fowlkes_mallows_score\n",
    "\n",
    "\"FM index:\", fowlkes_mallows_score(labels, correct_clusters_array)"
   ],
   "outputs": [
    {
     "data": {
      "text/plain": [
       "('FM index:', 0.2761832658674544)"
      ]
     },
     "execution_count": 157,
     "metadata": {},
     "output_type": "execute_result"
    }
   ],
   "execution_count": 157
  },
  {
   "metadata": {},
   "cell_type": "markdown",
   "source": "### Pair matrix"
  },
  {
   "metadata": {
    "ExecuteTime": {
     "end_time": "2024-10-22T11:06:14.722575Z",
     "start_time": "2024-10-22T11:06:14.693560Z"
    }
   },
   "cell_type": "code",
   "source": [
    "from sklearn.metrics import pair_confusion_matrix\n",
    "\n",
    "matrix = pair_confusion_matrix(correct_clusters_array, labels)\n",
    "f\"In true labelling: together, but in predicted: not  {matrix[1, 0]}\", f\"In true labelling: not together, but in predicted: together  {matrix[0, 1]}\", f\"In true labelling: together, and in predicted: together  {matrix[1, 1]}\", f\"In true labelling: not together, and in predicted: not together  {matrix[0, 0]}\""
   ],
   "outputs": [
    {
     "data": {
      "text/plain": [
       "('In true labelling: together, but in predicted: not  1046904516',\n",
       " 'In true labelling: not together, but in predicted: together  3652527866',\n",
       " 'In true labelling: together, and in predicted: together  788508630',\n",
       " 'In true labelling: not together, and in predicted: not together  4511958988')"
      ]
     },
     "execution_count": 163,
     "metadata": {},
     "output_type": "execute_result"
    }
   ],
   "execution_count": 163
  },
  {
   "metadata": {},
   "cell_type": "markdown",
   "source": "## Visualization"
  },
  {
   "metadata": {},
   "cell_type": "markdown",
   "source": "Define function for visualization."
  },
  {
   "cell_type": "code",
   "metadata": {
    "ExecuteTime": {
     "end_time": "2024-10-22T11:05:46.374523Z",
     "start_time": "2024-10-22T11:05:46.369338Z"
    }
   },
   "source": [
    "import matplotlib.pyplot as plt\n",
    "\n",
    "def plot_clusters(data, label, axis=True):\n",
    "    plt.figure(figsize=(10, 10))\n",
    "    plt.scatter(data[:, 0], data[:, 1], c=label)\n",
    "    \n",
    "    plt.axis(axis)\n",
    "\n",
    "    plt.show()"
   ],
   "outputs": [],
   "execution_count": 159
  },
  {
   "metadata": {},
   "cell_type": "markdown",
   "source": "Visualize the clusters."
  },
  {
   "metadata": {
    "ExecuteTime": {
     "end_time": "2024-10-22T11:07:08.283564Z",
     "start_time": "2024-10-22T11:07:06.599918Z"
    }
   },
   "cell_type": "code",
   "source": [
    "plot_clusters(preprocessed_array, labels, [0, 50, -25, 25])\n",
    "# plot_clusters(no_outliers_array, no_outliers_labels, [-0.1, 0.2, -0.1, 0.1])"
   ],
   "outputs": [
    {
     "data": {
      "text/plain": [
       "<Figure size 1000x1000 with 1 Axes>"
      ],
      "image/png": "[encoded data removed]"
     },
     "metadata": {},
     "output_type": "display_data"
    }
   ],
   "execution_count": 164
  },
  {
   "metadata": {},
   "cell_type": "markdown",
   "source": ""
  },
  {
   "metadata": {
    "ExecuteTime": {
     "end_time": "2024-10-22T11:07:08.341540Z",
     "start_time": "2024-10-22T11:07:08.323505Z"
    }
   },
   "cell_type": "code",
   "source": "max(labels)",
   "outputs": [
    {
     "data": {
      "text/plain": [
       "37"
      ]
     },
     "execution_count": 165,
     "metadata": {},
     "output_type": "execute_result"
    }
   ],
   "execution_count": 165
  },
  {
   "metadata": {
    "ExecuteTime": {
     "end_time": "2024-10-22T11:07:10.060560Z",
     "start_time": "2024-10-22T11:07:08.448591Z"
    }
   },
   "cell_type": "code",
   "source": [
    "plot_clusters(preprocessed_array, correct_clusters_array, [0, 50, -25, 25])\n",
    "# plot_clusters(no_outliers_array, no_outliers_clusters_app, [-0.1, 0.2, -0.1, 0.1])"
   ],
   "outputs": [
    {
     "data": {
      "text/plain": [
       "<Figure size 1000x1000 with 1 Axes>"
      ],
      "image/png": "[encoded data removed]"
     },
     "metadata": {},
     "output_type": "display_data"
    }
   ],
   "execution_count": 166
  }
 ],
 "metadata": {
  "kernelspec": {
   "display_name": "venv",
   "language": "python",
   "name": "python3"
  },
  "language_info": {
   "codemirror_mode": {
    "name": "ipython",
    "version": 3
   },
   "file_extension": ".py",
   "mimetype": "text/x-python",
   "name": "python",
   "nbconvert_exporter": "python",
   "pygments_lexer": "ipython3",
   "version": "3.12.7"
  }
 },
 "nbformat": 4,
 "nbformat_minor": 2
}
