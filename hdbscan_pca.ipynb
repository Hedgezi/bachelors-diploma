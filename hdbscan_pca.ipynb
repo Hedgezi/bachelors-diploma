{
 "cells": [
  {
   "cell_type": "markdown",
   "metadata": {},
   "source": [
    "# Clustering based on BYTES, PACKETS, DURATION"
   ]
  },
  {
   "cell_type": "markdown",
   "metadata": {},
   "source": "## Preparing a dataset"
  },
  {
   "cell_type": "markdown",
   "metadata": {},
   "source": [
    "Load the dataset."
   ]
  },
  {
   "cell_type": "code",
   "metadata": {
    "ExecuteTime": {
     "end_time": "2024-10-21T21:06:27.907590Z",
     "start_time": "2024-10-21T21:06:27.128770Z"
    }
   },
   "source": [
    "from cesnet_datazoo.datasets import CESNET_QUIC22\n",
    "\n",
    "dataset = CESNET_QUIC22(data_root=\"data/CESNET_QUIC22/\", size=\"XS\")"
   ],
   "outputs": [],
   "execution_count": 99
  },
  {
   "cell_type": "markdown",
   "metadata": {},
   "source": [
    "Prepare the dataset with config and see its columns."
   ]
  },
  {
   "cell_type": "code",
   "metadata": {
    "ExecuteTime": {
     "end_time": "2024-10-21T21:06:55.466996Z",
     "start_time": "2024-10-21T21:06:27.918110Z"
    }
   },
   "source": [
    "from cesnet_datazoo.config import DatasetConfig\n",
    "\n",
    "dataset_config = DatasetConfig(\n",
    "    dataset=dataset,\n",
    "    train_period_name=\"W-2022-44\",\n",
    "    train_size=100_000,\n",
    "    use_packet_histograms=True,\n",
    ")\n",
    "dataset.set_dataset_config_and_initialize(dataset_config)\n",
    "data_df = dataset.get_train_df()\n",
    "data_df.columns"
   ],
   "outputs": [
    {
     "name": "stdout",
     "output_type": "stream",
     "text": [
      "Loading data from dataloader\n"
     ]
    },
    {
     "name": "stderr",
     "output_type": "stream",
     "text": [
      "100%|██████████| 521/521 [00:21<00:00, 24.35it/s] \n"
     ]
    },
    {
     "data": {
      "text/plain": [
       "Index(['PPI', 'BYTES', 'BYTES_REV', 'PACKETS', 'PACKETS_REV', 'DURATION',\n",
       "       'PPI_LEN', 'PPI_ROUNDTRIPS', 'PPI_DURATION', 'FLOW_ENDREASON_IDLE',\n",
       "       'FLOW_ENDREASON_ACTIVE', 'FLOW_ENDREASON_OTHER', 'PSIZE_BIN1',\n",
       "       'PSIZE_BIN2', 'PSIZE_BIN3', 'PSIZE_BIN4', 'PSIZE_BIN5', 'PSIZE_BIN6',\n",
       "       'PSIZE_BIN7', 'PSIZE_BIN8', 'PSIZE_BIN1_REV', 'PSIZE_BIN2_REV',\n",
       "       'PSIZE_BIN3_REV', 'PSIZE_BIN4_REV', 'PSIZE_BIN5_REV', 'PSIZE_BIN6_REV',\n",
       "       'PSIZE_BIN7_REV', 'PSIZE_BIN8_REV', 'IPT_BIN1', 'IPT_BIN2', 'IPT_BIN3',\n",
       "       'IPT_BIN4', 'IPT_BIN5', 'IPT_BIN6', 'IPT_BIN7', 'IPT_BIN8',\n",
       "       'IPT_BIN1_REV', 'IPT_BIN2_REV', 'IPT_BIN3_REV', 'IPT_BIN4_REV',\n",
       "       'IPT_BIN5_REV', 'IPT_BIN6_REV', 'IPT_BIN7_REV', 'IPT_BIN8_REV', 'APP'],\n",
       "      dtype='object')"
      ]
     },
     "execution_count": 100,
     "metadata": {},
     "output_type": "execute_result"
    }
   ],
   "execution_count": 100
  },
  {
   "cell_type": "markdown",
   "metadata": {},
   "source": [
    "Get only the columns that are needed for clustering."
   ]
  },
  {
   "cell_type": "code",
   "metadata": {
    "ExecuteTime": {
     "end_time": "2024-10-21T21:06:55.522353Z",
     "start_time": "2024-10-21T21:06:55.515616Z"
    }
   },
   "source": [
    "import numpy as np\n",
    "\n",
    "features_array = data_df[[\"PACKETS\", \"PACKETS_REV\", \"BYTES\", \"BYTES_REV\", \"DURATION\"]].to_numpy()\n",
    "correct_clusters_array = data_df[[\"APP\"]].to_numpy()"
   ],
   "outputs": [],
   "execution_count": 101
  },
  {
   "metadata": {},
   "cell_type": "markdown",
   "source": "## Analysis"
  },
  {
   "metadata": {},
   "cell_type": "markdown",
   "source": "Discover statistics of the dataset."
  },
  {
   "metadata": {
    "ExecuteTime": {
     "end_time": "2024-10-21T21:06:55.606715Z",
     "start_time": "2024-10-21T21:06:55.573630Z"
    }
   },
   "cell_type": "code",
   "source": "data_df[[\"PACKETS\", \"PACKETS_REV\", \"BYTES\", \"BYTES_REV\", \"DURATION\"]].describe()",
   "outputs": [
    {
     "data": {
      "text/plain": [
       "             PACKETS    PACKETS_REV         BYTES     BYTES_REV       DURATION\n",
       "count  100000.000000  100000.000000  1.000000e+05  1.000000e+05  100000.000000\n",
       "mean       44.652401     150.649124  1.639926e+04  1.692565e+05       9.468164\n",
       "std       625.932251    2088.789551  6.880626e+05  2.635584e+06      29.606266\n",
       "min         1.000000       1.000000  1.228000e+03  5.900000e+01       0.000175\n",
       "25%         8.000000       9.000000  2.730000e+03  3.244000e+03       0.094604\n",
       "50%        12.000000      13.000000  4.178500e+03  5.257000e+03       0.218190\n",
       "75%        22.000000      24.000000  7.168000e+03  1.051200e+04       4.976531\n",
       "max    162848.000000  489305.000000  2.060549e+08  6.242670e+08     356.115967"
      ],
      "text/html": [
       "<div>\n",
       "<style scoped>\n",
       "    .dataframe tbody tr th:only-of-type {\n",
       "        vertical-align: middle;\n",
       "    }\n",
       "\n",
       "    .dataframe tbody tr th {\n",
       "        vertical-align: top;\n",
       "    }\n",
       "\n",
       "    .dataframe thead th {\n",
       "        text-align: right;\n",
       "    }\n",
       "</style>\n",
       "<table border=\"1\" class=\"dataframe\">\n",
       "  <thead>\n",
       "    <tr style=\"text-align: right;\">\n",
       "      <th></th>\n",
       "      <th>PACKETS</th>\n",
       "      <th>PACKETS_REV</th>\n",
       "      <th>BYTES</th>\n",
       "      <th>BYTES_REV</th>\n",
       "      <th>DURATION</th>\n",
       "    </tr>\n",
       "  </thead>\n",
       "  <tbody>\n",
       "    <tr>\n",
       "      <th>count</th>\n",
       "      <td>100000.000000</td>\n",
       "      <td>100000.000000</td>\n",
       "      <td>1.000000e+05</td>\n",
       "      <td>1.000000e+05</td>\n",
       "      <td>100000.000000</td>\n",
       "    </tr>\n",
       "    <tr>\n",
       "      <th>mean</th>\n",
       "      <td>44.652401</td>\n",
       "      <td>150.649124</td>\n",
       "      <td>1.639926e+04</td>\n",
       "      <td>1.692565e+05</td>\n",
       "      <td>9.468164</td>\n",
       "    </tr>\n",
       "    <tr>\n",
       "      <th>std</th>\n",
       "      <td>625.932251</td>\n",
       "      <td>2088.789551</td>\n",
       "      <td>6.880626e+05</td>\n",
       "      <td>2.635584e+06</td>\n",
       "      <td>29.606266</td>\n",
       "    </tr>\n",
       "    <tr>\n",
       "      <th>min</th>\n",
       "      <td>1.000000</td>\n",
       "      <td>1.000000</td>\n",
       "      <td>1.228000e+03</td>\n",
       "      <td>5.900000e+01</td>\n",
       "      <td>0.000175</td>\n",
       "    </tr>\n",
       "    <tr>\n",
       "      <th>25%</th>\n",
       "      <td>8.000000</td>\n",
       "      <td>9.000000</td>\n",
       "      <td>2.730000e+03</td>\n",
       "      <td>3.244000e+03</td>\n",
       "      <td>0.094604</td>\n",
       "    </tr>\n",
       "    <tr>\n",
       "      <th>50%</th>\n",
       "      <td>12.000000</td>\n",
       "      <td>13.000000</td>\n",
       "      <td>4.178500e+03</td>\n",
       "      <td>5.257000e+03</td>\n",
       "      <td>0.218190</td>\n",
       "    </tr>\n",
       "    <tr>\n",
       "      <th>75%</th>\n",
       "      <td>22.000000</td>\n",
       "      <td>24.000000</td>\n",
       "      <td>7.168000e+03</td>\n",
       "      <td>1.051200e+04</td>\n",
       "      <td>4.976531</td>\n",
       "    </tr>\n",
       "    <tr>\n",
       "      <th>max</th>\n",
       "      <td>162848.000000</td>\n",
       "      <td>489305.000000</td>\n",
       "      <td>2.060549e+08</td>\n",
       "      <td>6.242670e+08</td>\n",
       "      <td>356.115967</td>\n",
       "    </tr>\n",
       "  </tbody>\n",
       "</table>\n",
       "</div>"
      ]
     },
     "execution_count": 102,
     "metadata": {},
     "output_type": "execute_result"
    }
   ],
   "execution_count": 102
  },
  {
   "metadata": {},
   "cell_type": "markdown",
   "source": "See the head of the dataset."
  },
  {
   "metadata": {
    "ExecuteTime": {
     "end_time": "2024-10-21T21:06:55.717863Z",
     "start_time": "2024-10-21T21:06:55.703082Z"
    }
   },
   "cell_type": "code",
   "source": "data_df[[\"PACKETS\", \"PACKETS_REV\", \"BYTES\", \"BYTES_REV\", \"DURATION\", \"APP\"]].head()",
   "outputs": [
    {
     "data": {
      "text/plain": [
       "   PACKETS  PACKETS_REV   BYTES  BYTES_REV   DURATION  APP\n",
       "0     17.0         14.0  6040.0     9644.0   0.516582   31\n",
       "1     12.0         15.0  4577.0     2998.0   1.469174   32\n",
       "2      5.0          7.0  2692.0     7346.0   0.086534   22\n",
       "3     84.0        122.0  9732.0    86583.0  26.039257  100\n",
       "4      5.0          6.0  2012.0     2439.0   0.093410   91"
      ],
      "text/html": [
       "<div>\n",
       "<style scoped>\n",
       "    .dataframe tbody tr th:only-of-type {\n",
       "        vertical-align: middle;\n",
       "    }\n",
       "\n",
       "    .dataframe tbody tr th {\n",
       "        vertical-align: top;\n",
       "    }\n",
       "\n",
       "    .dataframe thead th {\n",
       "        text-align: right;\n",
       "    }\n",
       "</style>\n",
       "<table border=\"1\" class=\"dataframe\">\n",
       "  <thead>\n",
       "    <tr style=\"text-align: right;\">\n",
       "      <th></th>\n",
       "      <th>PACKETS</th>\n",
       "      <th>PACKETS_REV</th>\n",
       "      <th>BYTES</th>\n",
       "      <th>BYTES_REV</th>\n",
       "      <th>DURATION</th>\n",
       "      <th>APP</th>\n",
       "    </tr>\n",
       "  </thead>\n",
       "  <tbody>\n",
       "    <tr>\n",
       "      <th>0</th>\n",
       "      <td>17.0</td>\n",
       "      <td>14.0</td>\n",
       "      <td>6040.0</td>\n",
       "      <td>9644.0</td>\n",
       "      <td>0.516582</td>\n",
       "      <td>31</td>\n",
       "    </tr>\n",
       "    <tr>\n",
       "      <th>1</th>\n",
       "      <td>12.0</td>\n",
       "      <td>15.0</td>\n",
       "      <td>4577.0</td>\n",
       "      <td>2998.0</td>\n",
       "      <td>1.469174</td>\n",
       "      <td>32</td>\n",
       "    </tr>\n",
       "    <tr>\n",
       "      <th>2</th>\n",
       "      <td>5.0</td>\n",
       "      <td>7.0</td>\n",
       "      <td>2692.0</td>\n",
       "      <td>7346.0</td>\n",
       "      <td>0.086534</td>\n",
       "      <td>22</td>\n",
       "    </tr>\n",
       "    <tr>\n",
       "      <th>3</th>\n",
       "      <td>84.0</td>\n",
       "      <td>122.0</td>\n",
       "      <td>9732.0</td>\n",
       "      <td>86583.0</td>\n",
       "      <td>26.039257</td>\n",
       "      <td>100</td>\n",
       "    </tr>\n",
       "    <tr>\n",
       "      <th>4</th>\n",
       "      <td>5.0</td>\n",
       "      <td>6.0</td>\n",
       "      <td>2012.0</td>\n",
       "      <td>2439.0</td>\n",
       "      <td>0.093410</td>\n",
       "      <td>91</td>\n",
       "    </tr>\n",
       "  </tbody>\n",
       "</table>\n",
       "</div>"
      ]
     },
     "execution_count": 103,
     "metadata": {},
     "output_type": "execute_result"
    }
   ],
   "execution_count": 103
  },
  {
   "metadata": {},
   "cell_type": "markdown",
   "source": "## Preprocessing"
  },
  {
   "metadata": {},
   "cell_type": "markdown",
   "source": "Define a pipeline for preprocessing."
  },
  {
   "metadata": {
    "ExecuteTime": {
     "end_time": "2024-10-21T21:06:55.847067Z",
     "start_time": "2024-10-21T21:06:55.824057Z"
    }
   },
   "cell_type": "code",
   "source": [
    "from sklearn.pipeline import Pipeline\n",
    "from sklearn.preprocessing import StandardScaler\n",
    "from sklearn.decomposition import PCA\n",
    "\n",
    "preprocessing_pipeline = Pipeline([\n",
    "    ('scaler', StandardScaler()),\n",
    "    ('pca', PCA(n_components=2)),\n",
    "])\n",
    "\n",
    "preprocessed_array = preprocessing_pipeline.fit_transform(features_array)"
   ],
   "outputs": [],
   "execution_count": 104
  },
  {
   "metadata": {},
   "cell_type": "markdown",
   "source": "## Clustering"
  },
  {
   "metadata": {},
   "cell_type": "markdown",
   "source": "Define function for DBSCAN clustering."
  },
  {
   "cell_type": "code",
   "metadata": {
    "ExecuteTime": {
     "end_time": "2024-10-21T21:06:55.967743Z",
     "start_time": "2024-10-21T21:06:55.960473Z"
    }
   },
   "source": [
    "from sklearn.cluster import DBSCAN, HDBSCAN\n",
    "\n",
    "def dbscan_clustering(data, eps=0.1, min_samples=5):\n",
    "    return DBSCAN(eps=eps, min_samples=min_samples).fit(data)\n",
    "\n",
    "def hdbscan_clustering(data, min_cluster_size=5):\n",
    "    return HDBSCAN(min_cluster_size=min_cluster_size).fit(data)"
   ],
   "outputs": [],
   "execution_count": 105
  },
  {
   "metadata": {},
   "cell_type": "markdown",
   "source": "Perform DBSCAN clustering."
  },
  {
   "metadata": {
    "ExecuteTime": {
     "end_time": "2024-10-21T21:08:06.837594Z",
     "start_time": "2024-10-21T21:06:55.999843Z"
    }
   },
   "cell_type": "code",
   "source": [
    "model = hdbscan_clustering(preprocessed_array)\n",
    "labels = model.labels_[:]"
   ],
   "outputs": [],
   "execution_count": 106
  },
  {
   "metadata": {},
   "cell_type": "markdown",
   "source": "## Postprocessing"
  },
  {
   "metadata": {},
   "cell_type": "markdown",
   "source": "Remove outliers."
  },
  {
   "metadata": {
    "ExecuteTime": {
     "end_time": "2024-10-21T21:08:06.885825Z",
     "start_time": "2024-10-21T21:08:06.880918Z"
    }
   },
   "cell_type": "code",
   "source": [
    "import numpy as np\n",
    "\n",
    "outliers = np.where(model.labels_ == -1)\n",
    "# no_outliers_array = np.delete(preprocessed_array, outliers, axis=0)\n",
    "# no_outliers_clusters_app = np.delete(correct_clusters_array, outliers)\n",
    "# no_outliers_labels = np.delete(model.labels_, outliers)\n",
    "\n",
    "print(f\"Number of outliers: {len(outliers[0])}\")"
   ],
   "outputs": [
    {
     "name": "stdout",
     "output_type": "stream",
     "text": [
      "Number of outliers: 39612\n"
     ]
    }
   ],
   "execution_count": 107
  },
  {
   "metadata": {},
   "cell_type": "markdown",
   "source": "## Evaluation"
  },
  {
   "metadata": {},
   "cell_type": "markdown",
   "source": "### Homogeneity, completeness and V-measure"
  },
  {
   "metadata": {
    "ExecuteTime": {
     "end_time": "2024-10-21T21:08:06.970635Z",
     "start_time": "2024-10-21T21:08:06.926930Z"
    }
   },
   "cell_type": "code",
   "source": [
    "from sklearn.metrics import homogeneity_completeness_v_measure\n",
    "\n",
    "homogeneity, completeness, v_measure = homogeneity_completeness_v_measure(correct_clusters_array.reshape(-1), labels)\n",
    "f\"Homogeneity (each cluster contains only members of a single class): {homogeneity}\", f\"Completeness (all members of a given class are assigned to the same cluster): {completeness}\", f\"V-measure: {v_measure}\""
   ],
   "outputs": [
    {
     "data": {
      "text/plain": [
       "('Homogeneity (each cluster contains only members of a single class): 0.3493566549869013',\n",
       " 'Completeness (all members of a given class are assigned to the same cluster): 0.2234320307346452',\n",
       " 'V-measure: 0.2725524048229289')"
      ]
     },
     "execution_count": 108,
     "metadata": {},
     "output_type": "execute_result"
    }
   ],
   "execution_count": 108
  },
  {
   "metadata": {},
   "cell_type": "markdown",
   "source": "### Fowlkes-Mallows index"
  },
  {
   "metadata": {
    "ExecuteTime": {
     "end_time": "2024-10-21T21:08:07.039489Z",
     "start_time": "2024-10-21T21:08:07.011764Z"
    }
   },
   "cell_type": "code",
   "source": [
    "from sklearn.metrics import fowlkes_mallows_score\n",
    "\n",
    "\"FM index:\", fowlkes_mallows_score(labels, correct_clusters_array.reshape(-1))"
   ],
   "outputs": [
    {
     "data": {
      "text/plain": [
       "('FM index:', 0.08090155639567403)"
      ]
     },
     "execution_count": 109,
     "metadata": {},
     "output_type": "execute_result"
    }
   ],
   "execution_count": 109
  },
  {
   "metadata": {},
   "cell_type": "markdown",
   "source": "### Pair matrix"
  },
  {
   "metadata": {
    "ExecuteTime": {
     "end_time": "2024-10-21T21:08:07.161072Z",
     "start_time": "2024-10-21T21:08:07.128893Z"
    }
   },
   "cell_type": "code",
   "source": [
    "from sklearn.metrics import pair_confusion_matrix\n",
    "\n",
    "matrix = pair_confusion_matrix(correct_clusters_array.reshape(-1), labels)\n",
    "f\"In true labelling: together, but in predicted: not  {matrix[1, 0]}\", f\"In true labelling: not together, but in predicted: together  {matrix[0, 1]}\""
   ],
   "outputs": [
    {
     "data": {
      "text/plain": [
       "('In true labelling: together, but in predicted: not  319531168',\n",
       " 'In true labelling: not together, but in predicted: together  1507946088')"
      ]
     },
     "execution_count": 110,
     "metadata": {},
     "output_type": "execute_result"
    }
   ],
   "execution_count": 110
  },
  {
   "metadata": {},
   "cell_type": "markdown",
   "source": "## Visualization"
  },
  {
   "metadata": {},
   "cell_type": "markdown",
   "source": "Define function for visualization."
  },
  {
   "cell_type": "code",
   "metadata": {
    "ExecuteTime": {
     "end_time": "2024-10-21T21:08:07.219782Z",
     "start_time": "2024-10-21T21:08:07.214787Z"
    }
   },
   "source": [
    "import matplotlib.pyplot as plt\n",
    "\n",
    "def plot_clusters(data, label, axis=True):\n",
    "    plt.figure(figsize=(10, 10))\n",
    "    plt.scatter(data[:, 0], data[:, 1], c=label)\n",
    "    \n",
    "    plt.axis(axis)\n",
    "\n",
    "    plt.show()"
   ],
   "outputs": [],
   "execution_count": 111
  },
  {
   "metadata": {},
   "cell_type": "markdown",
   "source": "Visualize the clusters."
  },
  {
   "metadata": {
    "ExecuteTime": {
     "end_time": "2024-10-21T21:08:09.056807Z",
     "start_time": "2024-10-21T21:08:07.224789Z"
    }
   },
   "cell_type": "code",
   "source": "plot_clusters(preprocessed_array, labels, [0, 40, -20, 20])",
   "outputs": [
    {
     "data": {
      "text/plain": [
       "<Figure size 1000x1000 with 1 Axes>"
      ],
      "image/png": "[encoded data removed]"
     },
     "metadata": {},
     "output_type": "display_data"
    }
   ],
   "execution_count": 112
  }
 ],
 "metadata": {
  "kernelspec": {
   "display_name": "venv",
   "language": "python",
   "name": "python3"
  },
  "language_info": {
   "codemirror_mode": {
    "name": "ipython",
    "version": 3
   },
   "file_extension": ".py",
   "mimetype": "text/x-python",
   "name": "python",
   "nbconvert_exporter": "python",
   "pygments_lexer": "ipython3",
   "version": "3.12.7"
  }
 },
 "nbformat": 4,
 "nbformat_minor": 2
}
