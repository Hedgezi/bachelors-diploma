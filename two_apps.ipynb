{
 "cells": [
  {
   "cell_type": "markdown",
   "id": "6dfa73d0ef8e0d5e",
   "metadata": {},
   "source": [
    "# Clustering based on BYTES, PACKETS, DURATION"
   ]
  },
  {
   "cell_type": "markdown",
   "id": "7a01c31e35eb68e4",
   "metadata": {},
   "source": [
    "## Preparing a dataset"
   ]
  },
  {
   "cell_type": "markdown",
   "id": "7e68e2b429276010",
   "metadata": {},
   "source": [
    "Load the dataset."
   ]
  },
  {
   "cell_type": "code",
   "execution_count": 1,
   "id": "829d8402428fbd0a",
   "metadata": {
    "ExecuteTime": {
     "end_time": "2025-05-07T04:01:27.791738Z",
     "start_time": "2025-05-07T04:01:21.681298Z"
    }
   },
   "outputs": [],
   "source": [
    "from cesnet_datazoo.datasets import CESNET_QUIC22, CESNET_TLS22\n",
    "\n",
    "dataset = CESNET_QUIC22(data_root=\"data/CESNET_QUIC22/\", size=\"XS\", silent=True)"
   ]
  },
  {
   "cell_type": "markdown",
   "id": "74fdfc1b8ce69824",
   "metadata": {},
   "source": [
    "Prepare the dataset with config and check its columns."
   ]
  },
  {
   "cell_type": "code",
   "execution_count": 2,
   "id": "e1f3751210e4232d",
   "metadata": {
    "ExecuteTime": {
     "end_time": "2025-05-07T04:01:34.890913Z",
     "start_time": "2025-05-07T04:01:27.879329Z"
    }
   },
   "outputs": [
    {
     "data": {
      "text/plain": [
       "Index(['PPI', 'BYTES', 'BYTES_REV', 'PACKETS', 'PACKETS_REV', 'DURATION',\n",
       "       'PPI_LEN', 'PPI_ROUNDTRIPS', 'PPI_DURATION', 'FLOW_ENDREASON_IDLE',\n",
       "       'FLOW_ENDREASON_ACTIVE', 'FLOW_ENDREASON_OTHER', 'PSIZE_BIN1',\n",
       "       'PSIZE_BIN2', 'PSIZE_BIN3', 'PSIZE_BIN4', 'PSIZE_BIN5', 'PSIZE_BIN6',\n",
       "       'PSIZE_BIN7', 'PSIZE_BIN8', 'PSIZE_BIN1_REV', 'PSIZE_BIN2_REV',\n",
       "       'PSIZE_BIN3_REV', 'PSIZE_BIN4_REV', 'PSIZE_BIN5_REV', 'PSIZE_BIN6_REV',\n",
       "       'PSIZE_BIN7_REV', 'PSIZE_BIN8_REV', 'IPT_BIN1', 'IPT_BIN2', 'IPT_BIN3',\n",
       "       'IPT_BIN4', 'IPT_BIN5', 'IPT_BIN6', 'IPT_BIN7', 'IPT_BIN8',\n",
       "       'IPT_BIN1_REV', 'IPT_BIN2_REV', 'IPT_BIN3_REV', 'IPT_BIN4_REV',\n",
       "       'IPT_BIN5_REV', 'IPT_BIN6_REV', 'IPT_BIN7_REV', 'IPT_BIN8_REV', 'APP'],\n",
       "      dtype='object')"
      ]
     },
     "execution_count": 2,
     "metadata": {},
     "output_type": "execute_result"
    }
   ],
   "source": [
    "from cesnet_datazoo.config import DatasetConfig\n",
    "\n",
    "dataset_config = DatasetConfig(\n",
    "    dataset=dataset,\n",
    "    train_period_name=\"W-2022-44\",\n",
    "    train_size=100_000,\n",
    "    use_packet_histograms=True,\n",
    ")\n",
    "dataset.set_dataset_config_and_initialize(dataset_config)\n",
    "\n",
    "data_df = dataset.get_train_df()\n",
    "data_df.columns"
   ]
  },
  {
   "cell_type": "markdown",
   "id": "e8b7a3df68391411",
   "metadata": {},
   "source": [
    "Add imports."
   ]
  },
  {
   "cell_type": "code",
   "execution_count": 3,
   "id": "b903c89d88f8a5d7",
   "metadata": {
    "ExecuteTime": {
     "end_time": "2025-05-07T04:01:34.954902Z",
     "start_time": "2025-05-07T04:01:34.952551Z"
    }
   },
   "outputs": [],
   "source": [
    "import pandas as pd\n",
    "import matplotlib.pyplot as plt\n",
    "import numpy as np"
   ]
  },
  {
   "cell_type": "markdown",
   "id": "8416a8a03164a582",
   "metadata": {},
   "source": [
    "Prepare the dataset dataframe.\n",
    "Convert APP column to APP_NAME."
   ]
  },
  {
   "cell_type": "code",
   "execution_count": 4,
   "id": "d31c8992ffc2b5f3",
   "metadata": {
    "ExecuteTime": {
     "end_time": "2025-05-07T04:01:35.089072Z",
     "start_time": "2025-05-07T04:01:35.056586Z"
    }
   },
   "outputs": [
    {
     "data": {
      "text/plain": [
       "APP_NAME\n",
       "bongacams                6830\n",
       "cloudflare-cdnjs         6355\n",
       "alza-identity            6323\n",
       "flightradar24            6110\n",
       "playradio                5551\n",
       "                         ... \n",
       "google-authentication       9\n",
       "instagram                   9\n",
       "ebay-kleinanzeigen          9\n",
       "google-autofill             8\n",
       "uber                        7\n",
       "Name: count, Length: 101, dtype: int64"
      ]
     },
     "execution_count": 4,
     "metadata": {},
     "output_type": "execute_result"
    }
   ],
   "source": [
    "data_df[\"APP_NAME\"] = data_df[\"APP\"].apply(lambda x: dataset._tables_app_enum.get(x, \"Unknown\"))\n",
    "\n",
    "data_df[\"APP_NAME\"].value_counts()"
   ]
  },
  {
   "cell_type": "markdown",
   "id": "c4747368",
   "metadata": {},
   "source": [
    "Prepare function for saving renderings."
   ]
  },
  {
   "cell_type": "code",
   "execution_count": null,
   "id": "25505064",
   "metadata": {},
   "outputs": [],
   "source": [
    "import os\n",
    "\n",
    "APE_PICTURES_SAVED = False\n",
    "\n",
    "plt.rcParams.update({'font.size': 26})\n",
    "\n",
    "def save_fig_to_images_dir(fig, fig_name, images_dir=(\"images\", \"two_apps\")):\n",
    "    try:\n",
    "        os.makedirs(os.path.join(*images_dir))\n",
    "    except FileExistsError:\n",
    "        pass\n",
    "    \n",
    "    try:\n",
    "        fig.savefig(os.path.join(*images_dir, fig_name), dpi=300, bbox_inches='tight',\n",
    "                    format='pdf', transparent=True, pad_inches=0.1)\n",
    "        print(f\"Figure {fig_name} saved successfully.\")\n",
    "    except Exception as e:\n",
    "        print(f\"Error saving figure {fig_name}: {e}\")"
   ]
  },
  {
   "cell_type": "markdown",
   "id": "693e3db0cdeb7e97",
   "metadata": {},
   "source": [
    "## Feature extraction"
   ]
  },
  {
   "cell_type": "markdown",
   "id": "2cb55aac98629ba8",
   "metadata": {},
   "source": [
    "Create new features."
   ]
  },
  {
   "cell_type": "code",
   "execution_count": 6,
   "id": "216d1fed0221ab7",
   "metadata": {
    "ExecuteTime": {
     "end_time": "2025-05-07T04:01:35.189838Z",
     "start_time": "2025-05-07T04:01:35.184411Z"
    }
   },
   "outputs": [],
   "source": [
    "data_df[\"BYTES_PER_PACKET\"] = data_df[\"BYTES\"] / data_df[\"PACKETS\"]\n",
    "data_df[\"BYTES_PER_PACKET_REV\"] = data_df[\"BYTES_REV\"] / data_df[\"PACKETS_REV\"]"
   ]
  },
  {
   "cell_type": "markdown",
   "id": "782fa39420d2d218",
   "metadata": {},
   "source": [
    "Get only the columns that are needed for clustering."
   ]
  },
  {
   "cell_type": "code",
   "execution_count": 7,
   "id": "d12046c3cfd7e057",
   "metadata": {
    "ExecuteTime": {
     "end_time": "2025-05-07T04:01:35.214646Z",
     "start_time": "2025-05-07T04:01:35.208402Z"
    }
   },
   "outputs": [],
   "source": [
    "features_to_extract = [\"PACKETS\", \"PACKETS_REV\", \"BYTES\", \"BYTES_REV\", \"DURATION\",\n",
    "                       \"PPI_LEN\", \"PPI_ROUNDTRIPS\", \"PPI_DURATION\",\n",
    "                       \"BYTES_PER_PACKET\", \"BYTES_PER_PACKET_REV\"]\n",
    "\n",
    "features_array = data_df[features_to_extract].to_numpy()\n",
    "app_array = data_df[[\"APP\"]].to_numpy().reshape(-1)"
   ]
  },
  {
   "cell_type": "markdown",
   "id": "9d7b6edbdec36b20",
   "metadata": {},
   "source": [
    "## Preprocessing"
   ]
  },
  {
   "cell_type": "markdown",
   "id": "504ba9c9226f135",
   "metadata": {},
   "source": [
    "Standardize the features."
   ]
  },
  {
   "cell_type": "code",
   "execution_count": 8,
   "id": "c65e7a918ead6dfa",
   "metadata": {
    "ExecuteTime": {
     "end_time": "2025-05-07T04:01:35.309969Z",
     "start_time": "2025-05-07T04:01:35.293255Z"
    }
   },
   "outputs": [],
   "source": [
    "from sklearn.pipeline import Pipeline\n",
    "from sklearn.preprocessing import StandardScaler\n",
    "\n",
    "preprocessing_pipeline = Pipeline([\n",
    "    ('scaler', StandardScaler()),\n",
    "])\n",
    "\n",
    "preprocessed_array = preprocessing_pipeline.fit_transform(features_array)"
   ]
  },
  {
   "cell_type": "markdown",
   "id": "d902115d97e0198e",
   "metadata": {},
   "source": [
    "## Application choice"
   ]
  },
  {
   "cell_type": "markdown",
   "id": "a946df7ad1f46e41",
   "metadata": {},
   "source": [
    "### Functions"
   ]
  },
  {
   "cell_type": "code",
   "execution_count": 9,
   "id": "bc9f3d048789742e",
   "metadata": {
    "ExecuteTime": {
     "end_time": "2025-05-07T04:01:35.610683Z",
     "start_time": "2025-05-07T04:01:35.599760Z"
    }
   },
   "outputs": [],
   "source": [
    "from numpy.linalg import inv, det\n",
    "\n",
    "def bhattacharyya_distance(mean1, cov1, mean2, cov2):\n",
    "    cov_avg = (cov1 + cov2) / 2\n",
    "    mean_diff = mean1 - mean2\n",
    "    term1 = 0.125 * np.dot(np.dot(mean_diff.T, inv(cov_avg)), mean_diff)\n",
    "    term2 = 0.5 * np.log(det(cov_avg) / np.sqrt(det(cov1) * det(cov2)))\n",
    "    return term1 + term2\n",
    "\n",
    "def find_most_different_classes_statistical(X, y, num_classes=5):\n",
    "    unique_classes = np.unique(y)\n",
    "    class_stats = {}\n",
    "    for cls in unique_classes:\n",
    "        X_cls = X[y == cls]\n",
    "        mean = X_cls.mean(axis=0)\n",
    "        cov = np.cov(X_cls, rowvar=False) + 1e-6 * np.eye(X_cls.shape[1])\n",
    "        class_stats[cls] = (mean, cov)\n",
    "\n",
    "    classes = list(class_stats.keys())\n",
    "    n = len(classes)\n",
    "\n",
    "    # build distance matrix\n",
    "    distance_matrix = np.zeros((n, n))\n",
    "    for i in range(n):\n",
    "        for j in range(i + 1, n):\n",
    "            mean1, cov1 = class_stats[classes[i]]\n",
    "            mean2, cov2 = class_stats[classes[j]]\n",
    "            dist = bhattacharyya_distance(mean1, cov1, mean2, cov2)\n",
    "            distance_matrix[i, j] = dist\n",
    "            distance_matrix[j, i] = dist\n",
    "\n",
    "    # pick the pair with maximum distance\n",
    "    i, j = np.unravel_index(np.argmax(distance_matrix), distance_matrix.shape)\n",
    "    selected_indices = [i, j]\n",
    "    remaining_indices = set(range(n)) - set(selected_indices)\n",
    "\n",
    "    # iteratively add the class farthest from current set\n",
    "    while len(selected_indices) < num_classes and remaining_indices:\n",
    "        best_candidate = None\n",
    "        best_min_dist = -1\n",
    "        for idx in remaining_indices:\n",
    "            min_dist = min(distance_matrix[idx, sel] for sel in selected_indices)\n",
    "            if min_dist > best_min_dist:\n",
    "                best_min_dist = min_dist\n",
    "                best_candidate = idx\n",
    "        selected_indices.append(best_candidate)\n",
    "        remaining_indices.remove(best_candidate)\n",
    "\n",
    "    return [classes[idx] for idx in selected_indices]"
   ]
  },
  {
   "cell_type": "markdown",
   "id": "c0bf100159152edb",
   "metadata": {},
   "source": [
    "### Choice"
   ]
  },
  {
   "cell_type": "code",
   "execution_count": 10,
   "id": "25e36ac9c3241cdb",
   "metadata": {
    "ExecuteTime": {
     "end_time": "2025-05-07T04:01:40.988075Z",
     "start_time": "2025-05-07T04:01:35.791820Z"
    }
   },
   "outputs": [
    {
     "data": {
      "text/plain": [
       "['alza-webapi', 'mdpi']"
      ]
     },
     "execution_count": 10,
     "metadata": {},
     "output_type": "execute_result"
    }
   ],
   "source": [
    "top_apps = find_most_different_classes_statistical(preprocessed_array, app_array, num_classes=2)\n",
    "\n",
    "list(map(lambda x: dataset._tables_app_enum.get(x, \"Unknown\"), top_apps))"
   ]
  },
  {
   "cell_type": "code",
   "execution_count": 11,
   "id": "6f379ecde042a4da",
   "metadata": {
    "ExecuteTime": {
     "end_time": "2025-05-07T04:01:41.125818Z",
     "start_time": "2025-05-07T04:01:41.120530Z"
    }
   },
   "outputs": [],
   "source": [
    "only_top_apps_array = np.isin(app_array, top_apps)\n",
    "\n",
    "filtered_app_array = app_array[only_top_apps_array]\n",
    "filtered_preprocessed_array = preprocessed_array[only_top_apps_array]"
   ]
  },
  {
   "cell_type": "markdown",
   "id": "7a83b11279d286eb",
   "metadata": {},
   "source": [
    "## KMeans"
   ]
  },
  {
   "cell_type": "markdown",
   "id": "da947a10c134095a",
   "metadata": {},
   "source": [
    "### Clustering"
   ]
  },
  {
   "cell_type": "markdown",
   "id": "23b41f2f14e1c266",
   "metadata": {},
   "source": [
    "Cluster the data using KMeans NUMBER_OF_MULTIPLIER times."
   ]
  },
  {
   "cell_type": "code",
   "execution_count": 12,
   "id": "ebef8e9b0ef6174e",
   "metadata": {
    "ExecuteTime": {
     "end_time": "2025-05-07T04:01:41.988041Z",
     "start_time": "2025-05-07T04:01:41.856546Z"
    }
   },
   "outputs": [],
   "source": [
    "from sklearn.cluster import KMeans\n",
    "\n",
    "kmeans = KMeans(n_clusters=len(top_apps), random_state=42).fit(filtered_preprocessed_array)"
   ]
  },
  {
   "cell_type": "markdown",
   "id": "ca60e5cafd27879c",
   "metadata": {},
   "source": [
    "### Evaluation"
   ]
  },
  {
   "cell_type": "markdown",
   "id": "f6034a4f",
   "metadata": {},
   "source": [
    "Calculate the homogeneity score."
   ]
  },
  {
   "cell_type": "code",
   "execution_count": 13,
   "id": "dcc6d4c2",
   "metadata": {},
   "outputs": [
    {
     "data": {
      "text/plain": [
       "1.0"
      ]
     },
     "execution_count": 13,
     "metadata": {},
     "output_type": "execute_result"
    }
   ],
   "source": [
    "from sklearn.metrics import homogeneity_score\n",
    "\n",
    "homogeneity_score(filtered_app_array, kmeans.labels_)"
   ]
  },
  {
   "cell_type": "markdown",
   "id": "92cc4253",
   "metadata": {},
   "source": [
    "Calculate the NMI score."
   ]
  },
  {
   "cell_type": "code",
   "execution_count": 14,
   "id": "ae7dfc81",
   "metadata": {},
   "outputs": [
    {
     "data": {
      "text/plain": [
       "1.0"
      ]
     },
     "execution_count": 14,
     "metadata": {},
     "output_type": "execute_result"
    }
   ],
   "source": [
    "from sklearn.metrics import normalized_mutual_info_score\n",
    "\n",
    "normalized_mutual_info_score(filtered_app_array, kmeans.labels_)"
   ]
  },
  {
   "cell_type": "markdown",
   "id": "162f95d29b7ee4b6",
   "metadata": {},
   "source": [
    "# HDBSCAN"
   ]
  },
  {
   "cell_type": "markdown",
   "id": "b49a6cae",
   "metadata": {},
   "source": [
    "### Clustering"
   ]
  },
  {
   "cell_type": "markdown",
   "id": "7759504c",
   "metadata": {},
   "source": [
    "Cluster the data using HDBSCAN."
   ]
  },
  {
   "cell_type": "code",
   "execution_count": 15,
   "id": "63948110b3652721",
   "metadata": {
    "ExecuteTime": {
     "end_time": "2025-05-07T05:21:15.826101Z",
     "start_time": "2025-05-07T05:21:15.814810Z"
    }
   },
   "outputs": [],
   "source": [
    "from sklearn.cluster import HDBSCAN\n",
    "\n",
    "hdbscan = HDBSCAN(min_samples=7).fit(filtered_preprocessed_array)"
   ]
  },
  {
   "cell_type": "markdown",
   "id": "37113d7b",
   "metadata": {},
   "source": [
    "### Evaluation"
   ]
  },
  {
   "cell_type": "markdown",
   "id": "04c7b256",
   "metadata": {},
   "source": [
    "Check number of clusters."
   ]
  },
  {
   "cell_type": "code",
   "execution_count": 16,
   "id": "e5e7c37ae6d3aa5f",
   "metadata": {
    "ExecuteTime": {
     "end_time": "2025-05-07T05:21:18.174402Z",
     "start_time": "2025-05-07T05:21:18.169597Z"
    }
   },
   "outputs": [
    {
     "data": {
      "text/plain": [
       "array([0, 1])"
      ]
     },
     "execution_count": 16,
     "metadata": {},
     "output_type": "execute_result"
    }
   ],
   "source": [
    "np.unique(hdbscan.labels_)"
   ]
  },
  {
   "cell_type": "markdown",
   "id": "bfeccd70",
   "metadata": {},
   "source": [
    "Calculate the homogeneity score."
   ]
  },
  {
   "cell_type": "code",
   "execution_count": 17,
   "id": "0539f925",
   "metadata": {},
   "outputs": [
    {
     "data": {
      "text/plain": [
       "1.0"
      ]
     },
     "execution_count": 17,
     "metadata": {},
     "output_type": "execute_result"
    }
   ],
   "source": [
    "from sklearn.metrics import homogeneity_score\n",
    "\n",
    "homogeneity_score(filtered_app_array, hdbscan.labels_)"
   ]
  },
  {
   "cell_type": "markdown",
   "id": "2b4cf491",
   "metadata": {},
   "source": [
    "Calculate the NMI score."
   ]
  },
  {
   "cell_type": "code",
   "execution_count": 18,
   "id": "3c7052f6",
   "metadata": {},
   "outputs": [
    {
     "data": {
      "text/plain": [
       "1.0"
      ]
     },
     "execution_count": 18,
     "metadata": {},
     "output_type": "execute_result"
    }
   ],
   "source": [
    "from sklearn.metrics import normalized_mutual_info_score\n",
    "\n",
    "normalized_mutual_info_score(filtered_app_array, hdbscan.labels_)"
   ]
  },
  {
   "cell_type": "markdown",
   "id": "c20332b1af0c3c3e",
   "metadata": {},
   "source": [
    "## Visualization"
   ]
  },
  {
   "cell_type": "code",
   "execution_count": null,
   "id": "2726d636b6b7d636",
   "metadata": {
    "ExecuteTime": {
     "end_time": "2025-05-07T04:01:46.125550744Z",
     "start_time": "2025-05-07T02:24:30.671771Z"
    }
   },
   "outputs": [
    {
     "data": {
      "image/png": "[encoded data removed]",
      "text/plain": [
       "<Figure size 1000x1000 with 1 Axes>"
      ]
     },
     "metadata": {},
     "output_type": "display_data"
    },
    {
     "name": "stdout",
     "output_type": "stream",
     "text": [
      "Figure tsne_hdbscan.pdf saved successfully.\n"
     ]
    }
   ],
   "source": [
    "from sklearn.manifold import TSNE\n",
    "\n",
    "tsne = TSNE(n_components=2, random_state=42)\n",
    "tsne_array = tsne.fit_transform(filtered_preprocessed_array)\n",
    "\n",
    "fig, ax = plt.subplots(figsize=(10, 10))\n",
    "scatter = ax.scatter(tsne_array[:, 0], tsne_array[:, 1], c=filtered_app_array, cmap='viridis', s=50)\n",
    "ax.legend(scatter.legend_elements()[0], \n",
    "          list(map(lambda x: dataset._tables_app_enum.get(x, \"Unknown\"), sorted(top_apps))), \n",
    "          title=\"Apps\")\n",
    "ax.set_title(\"t-SNE visualization of the dataset\")\n",
    "ax.set_xlabel(\"t-SNE component 1\")\n",
    "ax.set_ylabel(\"t-SNE component 2\")\n",
    "plt.show()\n",
    "\n",
    "if APE_PICTURES_SAVED: save_fig_to_images_dir(fig, \"true_labels.pdf\")"
   ]
  }
 ],
 "metadata": {
  "kernelspec": {
   "display_name": ".venv (3.11.11)",
   "language": "python",
   "name": "python3"
  },
  "language_info": {
   "codemirror_mode": {
    "name": "ipython",
    "version": 3
   },
   "file_extension": ".py",
   "mimetype": "text/x-python",
   "name": "python",
   "nbconvert_exporter": "python",
   "pygments_lexer": "ipython3",
   "version": "3.11.11"
  }
 },
 "nbformat": 4,
 "nbformat_minor": 5
}
