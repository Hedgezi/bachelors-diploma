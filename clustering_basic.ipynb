{
 "cells": [
  {
   "metadata": {},
   "cell_type": "markdown",
   "source": "# Clustering based on BYTES, PACKETS, DURATION",
   "id": "6dfa73d0ef8e0d5e"
  },
  {
   "metadata": {},
   "cell_type": "markdown",
   "source": "## Preparing a dataset",
   "id": "7a01c31e35eb68e4"
  },
  {
   "metadata": {},
   "cell_type": "markdown",
   "source": "Load the dataset.",
   "id": "7e68e2b429276010"
  },
  {
   "metadata": {
    "ExecuteTime": {
     "end_time": "2024-10-23T12:15:05.190180Z",
     "start_time": "2024-10-23T12:14:56.891741Z"
    }
   },
   "cell_type": "code",
   "outputs": [],
   "execution_count": 1,
   "source": [
    "from cesnet_datazoo.datasets import CESNET_QUIC22, CESNET_TLS22\n",
    "\n",
    "dataset = CESNET_QUIC22(data_root=\"data/CESNET_QUIC22/\", size=\"XS\", silent=True)"
   ],
   "id": "829d8402428fbd0a"
  },
  {
   "metadata": {},
   "cell_type": "markdown",
   "source": "Prepare the dataset with config and check its columns.",
   "id": "74fdfc1b8ce69824"
  },
  {
   "metadata": {
    "ExecuteTime": {
     "end_time": "2024-10-23T12:15:34.004058Z",
     "start_time": "2024-10-23T12:15:05.205381Z"
    }
   },
   "cell_type": "code",
   "outputs": [
    {
     "data": {
      "text/plain": [
       "Index(['PPI', 'BYTES', 'BYTES_REV', 'PACKETS', 'PACKETS_REV', 'DURATION',\n",
       "       'PPI_LEN', 'PPI_ROUNDTRIPS', 'PPI_DURATION', 'FLOW_ENDREASON_IDLE',\n",
       "       'FLOW_ENDREASON_ACTIVE', 'FLOW_ENDREASON_OTHER', 'PSIZE_BIN1',\n",
       "       'PSIZE_BIN2', 'PSIZE_BIN3', 'PSIZE_BIN4', 'PSIZE_BIN5', 'PSIZE_BIN6',\n",
       "       'PSIZE_BIN7', 'PSIZE_BIN8', 'PSIZE_BIN1_REV', 'PSIZE_BIN2_REV',\n",
       "       'PSIZE_BIN3_REV', 'PSIZE_BIN4_REV', 'PSIZE_BIN5_REV', 'PSIZE_BIN6_REV',\n",
       "       'PSIZE_BIN7_REV', 'PSIZE_BIN8_REV', 'IPT_BIN1', 'IPT_BIN2', 'IPT_BIN3',\n",
       "       'IPT_BIN4', 'IPT_BIN5', 'IPT_BIN6', 'IPT_BIN7', 'IPT_BIN8',\n",
       "       'IPT_BIN1_REV', 'IPT_BIN2_REV', 'IPT_BIN3_REV', 'IPT_BIN4_REV',\n",
       "       'IPT_BIN5_REV', 'IPT_BIN6_REV', 'IPT_BIN7_REV', 'IPT_BIN8_REV', 'APP'],\n",
       "      dtype='object')"
      ]
     },
     "execution_count": 2,
     "metadata": {},
     "output_type": "execute_result"
    }
   ],
   "execution_count": 2,
   "source": [
    "from cesnet_datazoo.config import DatasetConfig\n",
    "\n",
    "dataset_config = DatasetConfig(\n",
    "    dataset=dataset,\n",
    "    train_period_name=\"W-2022-44\",\n",
    "    train_size=100_000,\n",
    "    use_packet_histograms=True,\n",
    "    # return_other_fields=True,\n",
    ")\n",
    "dataset.set_dataset_config_and_initialize(dataset_config)\n",
    "\n",
    "data_df = dataset.get_train_df()\n",
    "data_df.columns"
   ],
   "id": "e1f3751210e4232d"
  },
  {
   "metadata": {},
   "cell_type": "markdown",
   "source": "Add imports.",
   "id": "e8b7a3df68391411"
  },
  {
   "metadata": {},
   "cell_type": "code",
   "outputs": [],
   "execution_count": null,
   "source": [
    "import pandas as pd\n",
    "import matplotlib.pyplot as plt\n",
    "import numpy as np"
   ],
   "id": "b903c89d88f8a5d7"
  },
  {
   "metadata": {},
   "cell_type": "markdown",
   "source": [
    "Prepare the dataset dataframe.\n",
    "Convert APP column to APP_NAME."
   ],
   "id": "8416a8a03164a582"
  },
  {
   "metadata": {},
   "cell_type": "code",
   "outputs": [],
   "execution_count": null,
   "source": [
    "data_df[\"APP_NAME\"] = data_df[\"APP\"].apply(lambda x: dataset._tables_app_enum.get(x, \"Unknown\"))\n",
    "\n",
    "data_df[\"APP_NAME\"].value_counts()"
   ],
   "id": "d31c8992ffc2b5f3"
  },
  {
   "metadata": {},
   "cell_type": "markdown",
   "source": "Get only the columns that are needed for clustering.",
   "id": "782fa39420d2d218"
  },
  {
   "metadata": {
    "ExecuteTime": {
     "end_time": "2024-10-23T12:15:34.466105Z",
     "start_time": "2024-10-23T12:15:34.458828Z"
    }
   },
   "cell_type": "code",
   "outputs": [],
   "execution_count": 3,
   "source": [
    "features_to_extract = [\"PACKETS\", \"PACKETS_REV\", \"BYTES\", \"BYTES_REV\", \"DURATION\", \"PPI_LEN\", \"PPI_ROUNDTRIPS\", \"PPI_DURATION\"]\n",
    "\n",
    "features_array = data_df[features_to_extract].to_numpy()\n",
    "app_array = data_df[[\"APP\"]].to_numpy().reshape(-1)"
   ],
   "id": "d12046c3cfd7e057"
  }
 ],
 "metadata": {
  "kernelspec": {
   "display_name": "Python 3",
   "language": "python",
   "name": "python3"
  },
  "language_info": {
   "codemirror_mode": {
    "name": "ipython",
    "version": 2
   },
   "file_extension": ".py",
   "mimetype": "text/x-python",
   "name": "python",
   "nbconvert_exporter": "python",
   "pygments_lexer": "ipython2",
   "version": "2.7.6"
  }
 },
 "nbformat": 4,
 "nbformat_minor": 5
}
