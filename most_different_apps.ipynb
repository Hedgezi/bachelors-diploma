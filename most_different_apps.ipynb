{
 "cells": [
  {
   "metadata": {},
   "cell_type": "markdown",
   "source": "# Clustering based on BYTES, PACKETS, DURATION",
   "id": "6dfa73d0ef8e0d5e"
  },
  {
   "metadata": {},
   "cell_type": "markdown",
   "source": "## Preparing a dataset",
   "id": "7a01c31e35eb68e4"
  },
  {
   "metadata": {},
   "cell_type": "markdown",
   "source": "Load the dataset.",
   "id": "7e68e2b429276010"
  },
  {
   "metadata": {
    "ExecuteTime": {
     "end_time": "2025-05-05T14:43:19.270543Z",
     "start_time": "2025-05-05T14:43:11.672676Z"
    }
   },
   "cell_type": "code",
   "source": [
    "from cesnet_datazoo.datasets import CESNET_QUIC22, CESNET_TLS22\n",
    "\n",
    "dataset = CESNET_QUIC22(data_root=\"data/CESNET_QUIC22/\", size=\"XS\", silent=True)"
   ],
   "id": "829d8402428fbd0a",
   "outputs": [],
   "execution_count": 1
  },
  {
   "metadata": {},
   "cell_type": "markdown",
   "source": "Prepare the dataset with config and check its columns.",
   "id": "74fdfc1b8ce69824"
  },
  {
   "metadata": {
    "ExecuteTime": {
     "end_time": "2025-05-05T14:43:31.907880Z",
     "start_time": "2025-05-05T14:43:19.284405Z"
    }
   },
   "cell_type": "code",
   "source": [
    "from cesnet_datazoo.config import DatasetConfig\n",
    "\n",
    "dataset_config = DatasetConfig(\n",
    "    dataset=dataset,\n",
    "    train_period_name=\"W-2022-44\",\n",
    "    train_size=100_000,\n",
    "    use_packet_histograms=True,\n",
    "    # return_other_fields=True,\n",
    ")\n",
    "dataset.set_dataset_config_and_initialize(dataset_config)\n",
    "\n",
    "data_df = dataset.get_train_df()\n",
    "data_df.columns"
   ],
   "id": "e1f3751210e4232d",
   "outputs": [
    {
     "data": {
      "text/plain": [
       "Index(['PPI', 'BYTES', 'BYTES_REV', 'PACKETS', 'PACKETS_REV', 'DURATION',\n",
       "       'PPI_LEN', 'PPI_ROUNDTRIPS', 'PPI_DURATION', 'FLOW_ENDREASON_IDLE',\n",
       "       'FLOW_ENDREASON_ACTIVE', 'FLOW_ENDREASON_OTHER', 'PSIZE_BIN1',\n",
       "       'PSIZE_BIN2', 'PSIZE_BIN3', 'PSIZE_BIN4', 'PSIZE_BIN5', 'PSIZE_BIN6',\n",
       "       'PSIZE_BIN7', 'PSIZE_BIN8', 'PSIZE_BIN1_REV', 'PSIZE_BIN2_REV',\n",
       "       'PSIZE_BIN3_REV', 'PSIZE_BIN4_REV', 'PSIZE_BIN5_REV', 'PSIZE_BIN6_REV',\n",
       "       'PSIZE_BIN7_REV', 'PSIZE_BIN8_REV', 'IPT_BIN1', 'IPT_BIN2', 'IPT_BIN3',\n",
       "       'IPT_BIN4', 'IPT_BIN5', 'IPT_BIN6', 'IPT_BIN7', 'IPT_BIN8',\n",
       "       'IPT_BIN1_REV', 'IPT_BIN2_REV', 'IPT_BIN3_REV', 'IPT_BIN4_REV',\n",
       "       'IPT_BIN5_REV', 'IPT_BIN6_REV', 'IPT_BIN7_REV', 'IPT_BIN8_REV', 'APP'],\n",
       "      dtype='object')"
      ]
     },
     "execution_count": 2,
     "metadata": {},
     "output_type": "execute_result"
    }
   ],
   "execution_count": 2
  },
  {
   "metadata": {},
   "cell_type": "markdown",
   "source": "Add imports.",
   "id": "e8b7a3df68391411"
  },
  {
   "metadata": {
    "ExecuteTime": {
     "end_time": "2025-05-05T14:43:32.595337Z",
     "start_time": "2025-05-05T14:43:32.580509Z"
    }
   },
   "cell_type": "code",
   "source": [
    "import pandas as pd\n",
    "import matplotlib.pyplot as plt\n",
    "import numpy as np"
   ],
   "id": "b903c89d88f8a5d7",
   "outputs": [],
   "execution_count": 3
  },
  {
   "metadata": {},
   "cell_type": "markdown",
   "source": [
    "Prepare the dataset dataframe.\n",
    "Convert APP column to APP_NAME."
   ],
   "id": "8416a8a03164a582"
  },
  {
   "metadata": {
    "ExecuteTime": {
     "end_time": "2025-05-05T14:43:32.677354Z",
     "start_time": "2025-05-05T14:43:32.615903Z"
    }
   },
   "cell_type": "code",
   "source": [
    "data_df[\"APP_NAME\"] = data_df[\"APP\"].apply(lambda x: dataset._tables_app_enum.get(x, \"Unknown\"))\n",
    "\n",
    "data_df[\"APP_NAME\"].value_counts()"
   ],
   "id": "d31c8992ffc2b5f3",
   "outputs": [
    {
     "data": {
      "text/plain": [
       "APP_NAME\n",
       "bongacams                6830\n",
       "cloudflare-cdnjs         6355\n",
       "alza-identity            6323\n",
       "flightradar24            6110\n",
       "playradio                5551\n",
       "                         ... \n",
       "google-authentication       9\n",
       "instagram                   9\n",
       "ebay-kleinanzeigen          9\n",
       "google-autofill             8\n",
       "uber                        7\n",
       "Name: count, Length: 101, dtype: int64"
      ]
     },
     "execution_count": 4,
     "metadata": {},
     "output_type": "execute_result"
    }
   ],
   "execution_count": 4
  },
  {
   "metadata": {},
   "cell_type": "markdown",
   "source": "## Feature extraction",
   "id": "693e3db0cdeb7e97"
  },
  {
   "metadata": {},
   "cell_type": "markdown",
   "source": "Create new features.",
   "id": "2cb55aac98629ba8"
  },
  {
   "metadata": {
    "ExecuteTime": {
     "end_time": "2025-05-05T14:43:32.709212Z",
     "start_time": "2025-05-05T14:43:32.702839Z"
    }
   },
   "cell_type": "code",
   "source": [
    "data_df[\"BYTES_PER_PACKET\"] = data_df[\"BYTES\"] / data_df[\"PACKETS\"]\n",
    "data_df[\"BYTES_PER_PACKET_REV\"] = data_df[\"BYTES_REV\"] / data_df[\"PACKETS_REV\"]"
   ],
   "id": "216d1fed0221ab7",
   "outputs": [],
   "execution_count": 5
  },
  {
   "metadata": {},
   "cell_type": "markdown",
   "source": "Get only the columns that are needed for clustering.",
   "id": "782fa39420d2d218"
  },
  {
   "metadata": {
    "ExecuteTime": {
     "end_time": "2025-05-05T14:43:32.919222Z",
     "start_time": "2025-05-05T14:43:32.913341Z"
    }
   },
   "cell_type": "code",
   "source": [
    "features_to_extract = [\"PACKETS\", \"PACKETS_REV\", \"BYTES\", \"BYTES_REV\", \"DURATION\",\n",
    "                       \"PPI_LEN\", \"PPI_ROUNDTRIPS\", \"PPI_DURATION\",\n",
    "                       \"BYTES_PER_PACKET\", \"BYTES_PER_PACKET_REV\"]\n",
    "\n",
    "features_array = data_df[features_to_extract].to_numpy()\n",
    "app_array = data_df[[\"APP\"]].to_numpy().reshape(-1)"
   ],
   "id": "d12046c3cfd7e057",
   "outputs": [],
   "execution_count": 6
  },
  {
   "metadata": {},
   "cell_type": "markdown",
   "source": "## Preprocessing",
   "id": "9d7b6edbdec36b20"
  },
  {
   "metadata": {},
   "cell_type": "markdown",
   "source": "Standardize the features.",
   "id": "504ba9c9226f135"
  },
  {
   "metadata": {
    "ExecuteTime": {
     "end_time": "2025-05-05T14:43:33.220529Z",
     "start_time": "2025-05-05T14:43:33.165773Z"
    }
   },
   "cell_type": "code",
   "source": [
    "from sklearn.pipeline import Pipeline\n",
    "from sklearn.preprocessing import StandardScaler\n",
    "\n",
    "preprocessing_pipeline = Pipeline([\n",
    "    ('scaler', StandardScaler()),\n",
    "])\n",
    "\n",
    "preprocessed_array = preprocessing_pipeline.fit_transform(features_array)"
   ],
   "id": "c65e7a918ead6dfa",
   "outputs": [],
   "execution_count": 7
  },
  {
   "metadata": {},
   "cell_type": "markdown",
   "source": "## Application choice",
   "id": "d902115d97e0198e"
  },
  {
   "metadata": {
    "ExecuteTime": {
     "end_time": "2025-05-05T14:43:33.334460Z",
     "start_time": "2025-05-05T14:43:33.325531Z"
    }
   },
   "cell_type": "code",
   "source": [
    "import numpy as np\n",
    "from itertools import combinations\n",
    "\n",
    "def find_most_separable_class_pairs(X, y, top_n=5):\n",
    "    unique_classes = np.unique(y)\n",
    "    class_pairs = list(combinations(unique_classes, 2))\n",
    "    distances = []\n",
    "\n",
    "    for class1, class2 in class_pairs:\n",
    "        mask = (y == class1) | (y == class2)\n",
    "        subset_X = X[mask]\n",
    "        subset_y = y[mask]\n",
    "\n",
    "        mean1 = subset_X[subset_y == class1].mean(axis=0)\n",
    "        mean2 = subset_X[subset_y == class2].mean(axis=0)\n",
    "\n",
    "        dist = np.linalg.norm(mean1 - mean2)  # Euclidean distance\n",
    "        distances.append((class1, class2, dist))\n",
    "\n",
    "    # Sort by descending distance\n",
    "    distances.sort(key=lambda x: x[2], reverse=True)\n",
    "\n",
    "    # Print top N\n",
    "    print(f\"Top {top_n} most separable class pairs by centroid distance:\")\n",
    "    for i in range(min(top_n, len(distances))):\n",
    "        c1, c2, dist = distances[i]\n",
    "        print(f\"{c1} vs {c2} → distance = {dist:.2f}\")\n",
    "\n",
    "    return distances[:top_n]"
   ],
   "id": "f7f464ba2debfe54",
   "outputs": [],
   "execution_count": 8
  },
  {
   "metadata": {
    "ExecuteTime": {
     "end_time": "2025-05-05T14:43:33.390907Z",
     "start_time": "2025-05-05T14:43:33.379976Z"
    }
   },
   "cell_type": "code",
   "source": [
    "import numpy as np\n",
    "from itertools import combinations\n",
    "\n",
    "def select_most_different_classes(X, y, num_classes=5):\n",
    "    unique_classes = np.unique(y)\n",
    "    centroids = {}\n",
    "    for cls in unique_classes:\n",
    "        centroids[cls] = X[y == cls].mean(axis=0)\n",
    "\n",
    "    classes = list(centroids.keys())\n",
    "    n = len(classes)\n",
    "\n",
    "    # Build distance matrix\n",
    "    distance_matrix = np.zeros((n, n))\n",
    "    for i in range(n):\n",
    "        for j in range(i + 1, n):\n",
    "            dist = np.linalg.norm(centroids[classes[i]] - centroids[classes[j]])\n",
    "            distance_matrix[i, j] = dist\n",
    "            distance_matrix[j, i] = dist  # symmetric\n",
    "\n",
    "    # Step 1: pick the pair with the maximum distance\n",
    "    i, j = np.unravel_index(np.argmax(distance_matrix), distance_matrix.shape)\n",
    "    selected_indices = [i, j]\n",
    "    remaining_indices = set(range(n)) - set(selected_indices)\n",
    "\n",
    "    # Step 2: iteratively add the class farthest from current set\n",
    "    while len(selected_indices) < num_classes and remaining_indices:\n",
    "        best_candidate = None\n",
    "        best_min_dist = -1\n",
    "        for idx in remaining_indices:\n",
    "            min_dist = min(distance_matrix[idx, sel] for sel in selected_indices)\n",
    "            if min_dist > best_min_dist:\n",
    "                best_min_dist = min_dist\n",
    "                best_candidate = idx\n",
    "        selected_indices.append(best_candidate)\n",
    "        remaining_indices.remove(best_candidate)\n",
    "\n",
    "    selected_classes = [classes[idx] for idx in selected_indices]\n",
    "\n",
    "    print(f\"Selected classes (most different from each other): {selected_classes}\")\n",
    "    return selected_classes\n"
   ],
   "id": "499939b41bcba798",
   "outputs": [],
   "execution_count": 9
  },
  {
   "metadata": {
    "ExecuteTime": {
     "end_time": "2025-05-05T14:43:33.561051Z",
     "start_time": "2025-05-05T14:43:33.546143Z"
    }
   },
   "cell_type": "code",
   "source": [
    "import numpy as np\n",
    "from itertools import combinations\n",
    "from numpy.linalg import inv, det\n",
    "\n",
    "def bhattacharyya_distance(mean1, cov1, mean2, cov2):\n",
    "    cov_avg = (cov1 + cov2) / 2\n",
    "    mean_diff = mean1 - mean2\n",
    "    term1 = 0.125 * np.dot(np.dot(mean_diff.T, inv(cov_avg)), mean_diff)\n",
    "    term2 = 0.5 * np.log(det(cov_avg) / np.sqrt(det(cov1) * det(cov2)))\n",
    "    return term1 + term2\n",
    "\n",
    "def find_most_different_classes_statistical(X, y, num_classes=5):\n",
    "    unique_classes = np.unique(y)\n",
    "    class_stats = {}\n",
    "    for cls in unique_classes:\n",
    "        X_cls = X[y == cls]\n",
    "        mean = X_cls.mean(axis=0)\n",
    "        cov = np.cov(X_cls, rowvar=False) + 1e-6 * np.eye(X_cls.shape[1])  # small regularization\n",
    "        class_stats[cls] = (mean, cov)\n",
    "\n",
    "    classes = list(class_stats.keys())\n",
    "    n = len(classes)\n",
    "\n",
    "    # Build distance matrix\n",
    "    distance_matrix = np.zeros((n, n))\n",
    "    for i in range(n):\n",
    "        for j in range(i + 1, n):\n",
    "            mean1, cov1 = class_stats[classes[i]]\n",
    "            mean2, cov2 = class_stats[classes[j]]\n",
    "            dist = bhattacharyya_distance(mean1, cov1, mean2, cov2)\n",
    "            distance_matrix[i, j] = dist\n",
    "            distance_matrix[j, i] = dist\n",
    "\n",
    "    # Step 1: pick the pair with maximum distance\n",
    "    i, j = np.unravel_index(np.argmax(distance_matrix), distance_matrix.shape)\n",
    "    selected_indices = [i, j]\n",
    "    remaining_indices = set(range(n)) - set(selected_indices)\n",
    "\n",
    "    # Step 2: iteratively add the class farthest from current set\n",
    "    while len(selected_indices) < num_classes and remaining_indices:\n",
    "        best_candidate = None\n",
    "        best_min_dist = -1\n",
    "        for idx in remaining_indices:\n",
    "            min_dist = min(distance_matrix[idx, sel] for sel in selected_indices)\n",
    "            if min_dist > best_min_dist:\n",
    "                best_min_dist = min_dist\n",
    "                best_candidate = idx\n",
    "        selected_indices.append(best_candidate)\n",
    "        remaining_indices.remove(best_candidate)\n",
    "\n",
    "    selected_classes = [classes[idx] for idx in selected_indices]\n",
    "\n",
    "    print(f\"Selected classes (most statistically different): {selected_classes}\")\n",
    "    return selected_classes\n"
   ],
   "id": "bc9f3d048789742e",
   "outputs": [],
   "execution_count": 10
  },
  {
   "metadata": {
    "ExecuteTime": {
     "end_time": "2025-05-05T14:43:34.040028Z",
     "start_time": "2025-05-05T14:43:34.028979Z"
    }
   },
   "cell_type": "code",
   "source": [
    "import numpy as np\n",
    "from itertools import combinations\n",
    "from numpy.linalg import inv\n",
    "\n",
    "def lda_separation_score(X1, X2):\n",
    "    # Means\n",
    "    mean1 = X1.mean(axis=0)\n",
    "    mean2 = X2.mean(axis=0)\n",
    "\n",
    "    # Covariances\n",
    "    cov1 = np.cov(X1, rowvar=False) + 1e-6 * np.eye(X1.shape[1])\n",
    "    cov2 = np.cov(X2, rowvar=False) + 1e-6 * np.eye(X2.shape[1])\n",
    "\n",
    "    # Within-class scatter\n",
    "    S_W = cov1 + cov2\n",
    "\n",
    "    # Between-class scatter\n",
    "    mean_diff = (mean1 - mean2).reshape(-1, 1)\n",
    "    S_B = np.dot(mean_diff, mean_diff.T)\n",
    "\n",
    "    # LDA score: trace(S_W^-1 S_B)\n",
    "    score = np.trace(np.dot(inv(S_W), S_B))\n",
    "    return score\n",
    "\n",
    "def find_most_different_classes_lda(X, y, num_classes=5):\n",
    "    unique_classes = np.unique(y)\n",
    "    class_data = {cls: X[y == cls] for cls in unique_classes}\n",
    "\n",
    "    classes = list(class_data.keys())\n",
    "    n = len(classes)\n",
    "\n",
    "    # Build separation score matrix\n",
    "    score_matrix = np.zeros((n, n))\n",
    "    for i in range(n):\n",
    "        for j in range(i + 1, n):\n",
    "            score = lda_separation_score(class_data[classes[i]], class_data[classes[j]])\n",
    "            score_matrix[i, j] = score\n",
    "            score_matrix[j, i] = score\n",
    "\n",
    "    # Step 1: pick the pair with maximum LDA separation score\n",
    "    i, j = np.unravel_index(np.argmax(score_matrix), score_matrix.shape)\n",
    "    selected_indices = [i, j]\n",
    "    remaining_indices = set(range(n)) - set(selected_indices)\n",
    "\n",
    "    # Step 2: iteratively add the class that maximizes minimum separation to current set\n",
    "    while len(selected_indices) < num_classes and remaining_indices:\n",
    "        best_candidate = None\n",
    "        best_min_score = -np.inf\n",
    "        for idx in remaining_indices:\n",
    "            min_score = min(score_matrix[idx, sel] for sel in selected_indices)\n",
    "            if min_score > best_min_score:\n",
    "                best_min_score = min_score\n",
    "                best_candidate = idx\n",
    "        selected_indices.append(best_candidate)\n",
    "        remaining_indices.remove(best_candidate)\n",
    "\n",
    "    selected_classes = [classes[idx] for idx in selected_indices]\n",
    "\n",
    "    print(f\"Selected classes (most LDA separable): {selected_classes}\")\n",
    "    return selected_classes\n"
   ],
   "id": "76ae258bcb50aace",
   "outputs": [],
   "execution_count": 11
  },
  {
   "metadata": {
    "ExecuteTime": {
     "end_time": "2025-05-05T14:43:34.379314Z",
     "start_time": "2025-05-05T14:43:34.102108Z"
    }
   },
   "cell_type": "code",
   "source": [
    "import numpy as np\n",
    "from sklearn.feature_selection import mutual_info_classif\n",
    "\n",
    "def mutual_info_separation_score(X1, X2):\n",
    "    # Stack data and create labels\n",
    "    X_pair = np.vstack((X1, X2))\n",
    "    y_pair = np.array([0] * len(X1) + [1] * len(X2))\n",
    "\n",
    "    # Compute mutual information between each feature and labels\n",
    "    mi = mutual_info_classif(X_pair, y_pair, discrete_features=False, random_state=42)\n",
    "\n",
    "    # Aggregate mutual information score (average over features)\n",
    "    score = np.mean(mi)\n",
    "    return score\n",
    "\n",
    "def find_most_different_classes_mi(X, y, num_classes=5):\n",
    "    unique_classes = np.unique(y)\n",
    "    class_data = {cls: X[y == cls] for cls in unique_classes}\n",
    "\n",
    "    classes = list(class_data.keys())\n",
    "    n = len(classes)\n",
    "\n",
    "    # Build MI-based separation score matrix\n",
    "    score_matrix = np.zeros((n, n))\n",
    "    for i in range(n):\n",
    "        for j in range(i + 1, n):\n",
    "            score = mutual_info_separation_score(class_data[classes[i]], class_data[classes[j]])\n",
    "            score_matrix[i, j] = score\n",
    "            score_matrix[j, i] = score\n",
    "\n",
    "    # Step 1: pick the pair with maximum MI score\n",
    "    i, j = np.unravel_index(np.argmax(score_matrix), score_matrix.shape)\n",
    "    selected_indices = [i, j]\n",
    "    remaining_indices = set(range(n)) - set(selected_indices)\n",
    "\n",
    "    # Step 2: iteratively add the class with best minimum MI to current set\n",
    "    while len(selected_indices) < num_classes and remaining_indices:\n",
    "        best_candidate = None\n",
    "        best_min_score = -np.inf\n",
    "        for idx in remaining_indices:\n",
    "            min_score = min(score_matrix[idx, sel] for sel in selected_indices)\n",
    "            if min_score > best_min_score:\n",
    "                best_min_score = min_score\n",
    "                best_candidate = idx\n",
    "        selected_indices.append(best_candidate)\n",
    "        remaining_indices.remove(best_candidate)\n",
    "\n",
    "    selected_classes = [classes[idx] for idx in selected_indices]\n",
    "\n",
    "    print(f\"Selected classes (most separable via MI): {selected_classes}\")\n",
    "    return selected_classes"
   ],
   "id": "c4bee7bb5127adc9",
   "outputs": [],
   "execution_count": 12
  },
  {
   "metadata": {
    "ExecuteTime": {
     "end_time": "2025-05-05T17:28:19.948158Z",
     "start_time": "2025-05-05T17:28:19.703804Z"
    }
   },
   "cell_type": "code",
   "source": [
    "# top_apps = select_most_different_classes(preprocessed_array, app_array)\n",
    "\n",
    "# top_apps_distances = find_most_separable_class_pairs(preprocessed_array, app_array, 5)\n",
    "#\n",
    "# all_top_apps = []\n",
    "#\n",
    "# for app in top_apps_distances:\n",
    "#     all_top_apps.append(app[0])\n",
    "#     all_top_apps.append(app[1])\n",
    "#\n",
    "# top_apps = list(set(all_top_apps))\n",
    "\n",
    "# [40, 81, 34, 15, 23, 54, 2, 63, 80, 95]\n",
    "#top 1\n",
    "\n",
    "top_apps = find_most_different_classes_statistical(preprocessed_array, app_array, num_classes=5)\n",
    "\n",
    "#top 2\n",
    "# [40, 81, 34]\n",
    "# top_apps = find_most_different_classes_lda(preprocessed_array, app_array, 5)\n",
    "\n",
    "# top_apps = find_most_different_classes_mi(preprocessed_array, app_array, 10)\n",
    "\n",
    "top_apps"
   ],
   "id": "25e36ac9c3241cdb",
   "outputs": [
    {
     "ename": "NameError",
     "evalue": "name 'find_most_different_classes_statistical' is not defined",
     "output_type": "error",
     "traceback": [
      "\u001B[31m---------------------------------------------------------------------------\u001B[39m",
      "\u001B[31mNameError\u001B[39m                                 Traceback (most recent call last)",
      "\u001B[36mCell\u001B[39m\u001B[36m \u001B[39m\u001B[32mIn[1]\u001B[39m\u001B[32m, line 16\u001B[39m\n\u001B[32m      1\u001B[39m \u001B[38;5;66;03m# top_apps = select_most_different_classes(preprocessed_array, app_array)\u001B[39;00m\n\u001B[32m      2\u001B[39m \n\u001B[32m      3\u001B[39m \u001B[38;5;66;03m# top_apps_distances = find_most_separable_class_pairs(preprocessed_array, app_array, 5)\u001B[39;00m\n\u001B[32m   (...)\u001B[39m\u001B[32m     13\u001B[39m \u001B[38;5;66;03m# [40, 81, 34, 15, 23, 54, 2, 63, 80, 95]\u001B[39;00m\n\u001B[32m     14\u001B[39m \u001B[38;5;66;03m#top 1\u001B[39;00m\n\u001B[32m---> \u001B[39m\u001B[32m16\u001B[39m top_apps = \u001B[43mfind_most_different_classes_statistical\u001B[49m(preprocessed_array, app_array, num_classes=\u001B[32m5\u001B[39m)\n\u001B[32m     18\u001B[39m \u001B[38;5;66;03m#top 2\u001B[39;00m\n\u001B[32m     19\u001B[39m \u001B[38;5;66;03m# [40, 81, 34]\u001B[39;00m\n\u001B[32m     20\u001B[39m \u001B[38;5;66;03m# top_apps = find_most_different_classes_lda(preprocessed_array, app_array, 5)\u001B[39;00m\n\u001B[32m     21\u001B[39m \n\u001B[32m     22\u001B[39m \u001B[38;5;66;03m# top_apps = find_most_different_classes_mi(preprocessed_array, app_array, 10)\u001B[39;00m\n\u001B[32m     24\u001B[39m top_apps\n",
      "\u001B[31mNameError\u001B[39m: name 'find_most_different_classes_statistical' is not defined"
     ]
    }
   ],
   "execution_count": 1
  },
  {
   "metadata": {
    "ExecuteTime": {
     "end_time": "2025-05-05T14:43:39.067415Z",
     "start_time": "2025-05-05T14:43:39.055939Z"
    }
   },
   "cell_type": "code",
   "source": [
    "only_top_apps_array = np.isin(app_array, top_apps)\n",
    "\n",
    "filtered_app_array = app_array[only_top_apps_array]\n",
    "filtered_preprocessed_array = preprocessed_array[only_top_apps_array]"
   ],
   "id": "6f379ecde042a4da",
   "outputs": [],
   "execution_count": 14
  },
  {
   "metadata": {
    "ExecuteTime": {
     "end_time": "2025-05-05T15:01:20.671575Z",
     "start_time": "2025-05-05T15:01:20.666503Z"
    }
   },
   "cell_type": "code",
   "source": "dataset._tables_app_enum.get(83)",
   "id": "76e56936dc1b08f",
   "outputs": [
    {
     "data": {
      "text/plain": [
       "'kiwi-com'"
      ]
     },
     "execution_count": 40,
     "metadata": {},
     "output_type": "execute_result"
    }
   ],
   "execution_count": 40
  },
  {
   "metadata": {
    "ExecuteTime": {
     "end_time": "2025-05-05T14:43:39.362354Z",
     "start_time": "2025-05-05T14:43:39.356010Z"
    }
   },
   "cell_type": "code",
   "source": "np.unique(filtered_app_array, return_counts=True)",
   "id": "9b02c4537a173de0",
   "outputs": [
    {
     "data": {
      "text/plain": [
       "(array([15, 23, 34, 40, 81]), array([200,   8,   9,  39,  45]))"
      ]
     },
     "execution_count": 17,
     "metadata": {},
     "output_type": "execute_result"
    }
   ],
   "execution_count": 17
  },
  {
   "metadata": {
    "ExecuteTime": {
     "end_time": "2025-05-05T14:43:39.534259Z",
     "start_time": "2025-05-05T14:43:39.479390Z"
    }
   },
   "cell_type": "code",
   "source": "data_df[data_df[\"APP\"] == 34]",
   "id": "5b501aac3c5c19ad",
   "outputs": [
    {
     "data": {
      "text/plain": [
       "                                                     PPI   BYTES  BYTES_REV  \\\n",
       "4894   [[0.0, 1.0, 0.0, 0.0, 0.0, 0.0, 0.0, 0.0, 0.0,...  1228.0     2456.0   \n",
       "6963   [[0.0, 1.0, 1.0, 0.0, 0.0, 0.0, 0.0, 0.0, 0.0,...  1228.0     2456.0   \n",
       "21324  [[0.0, 1.0, 0.0, 0.0, 0.0, 0.0, 0.0, 0.0, 0.0,...  1228.0     1228.0   \n",
       "25116  [[0.0, 1.0, 1.0, 0.0, 0.0, 0.0, 0.0, 0.0, 0.0,...  1228.0     2456.0   \n",
       "31642  [[0.0, 13.0, 0.0, 0.0, 0.0, 0.0, 0.0, 0.0, 0.0...  1228.0     1228.0   \n",
       "42789  [[0.0, 0.0, 0.0, 0.0, 0.0, 0.0, 0.0, 0.0, 0.0,...  1228.0     1228.0   \n",
       "59908  [[0.0, 8.0, 0.0, 0.0, 20.0, 4.0, 1.0, 1.0, 0.0...  2892.0    10325.0   \n",
       "70068  [[0.0, 1.0, 1.0, 0.0, 0.0, 0.0, 0.0, 0.0, 0.0,...  1228.0     2456.0   \n",
       "95520  [[0.0, 7.0, 0.0, 0.0, 43.0, 0.0, 6.0, 0.0, 6.0...  6956.0     6409.0   \n",
       "\n",
       "       PACKETS  PACKETS_REV  DURATION  PPI_LEN  PPI_ROUNDTRIPS  PPI_DURATION  \\\n",
       "4894       1.0          2.0  0.001391      3.0             1.0         0.001   \n",
       "6963       1.0          2.0  0.001585      3.0             1.0         0.002   \n",
       "21324      1.0          1.0  0.000711      2.0             1.0         0.001   \n",
       "25116      1.0          2.0  0.002221      3.0             1.0         0.002   \n",
       "31642      1.0          1.0  0.012759      2.0             1.0         0.013   \n",
       "42789      1.0          1.0  0.000836      2.0             1.0         0.000   \n",
       "59908      8.0         15.0  6.753503     23.0             5.0         6.754   \n",
       "70068      1.0          2.0  0.002268      3.0             1.0         0.002   \n",
       "95520     17.0         13.0  0.257932     30.0             5.0         0.258   \n",
       "\n",
       "       FLOW_ENDREASON_IDLE  ...  IPT_BIN3_REV  IPT_BIN4_REV  IPT_BIN5_REV  \\\n",
       "4894                   1.0  ...           0.0           0.0           0.0   \n",
       "6963                   1.0  ...           0.0           0.0           0.0   \n",
       "21324                  1.0  ...           0.0           0.0           0.0   \n",
       "25116                  1.0  ...           0.0           0.0           0.0   \n",
       "31642                  1.0  ...           0.0           0.0           0.0   \n",
       "42789                  1.0  ...           0.0           0.0           0.0   \n",
       "59908                  1.0  ...           3.0           0.0           1.0   \n",
       "70068                  1.0  ...           0.0           0.0           0.0   \n",
       "95520                  1.0  ...           2.0           1.0           0.0   \n",
       "\n",
       "       IPT_BIN6_REV  IPT_BIN7_REV  IPT_BIN8_REV  APP   APP_NAME  \\\n",
       "4894            0.0           0.0           0.0   34  instagram   \n",
       "6963            0.0           0.0           0.0   34  instagram   \n",
       "21324           0.0           0.0           0.0   34  instagram   \n",
       "25116           0.0           0.0           0.0   34  instagram   \n",
       "31642           0.0           0.0           0.0   34  instagram   \n",
       "42789           0.0           0.0           0.0   34  instagram   \n",
       "59908           2.0           1.0           2.0   34  instagram   \n",
       "70068           0.0           0.0           0.0   34  instagram   \n",
       "95520           0.0           0.0           0.0   34  instagram   \n",
       "\n",
       "       BYTES_PER_PACKET  BYTES_PER_PACKET_REV  \n",
       "4894        1228.000000           1228.000000  \n",
       "6963        1228.000000           1228.000000  \n",
       "21324       1228.000000           1228.000000  \n",
       "25116       1228.000000           1228.000000  \n",
       "31642       1228.000000           1228.000000  \n",
       "42789       1228.000000           1228.000000  \n",
       "59908        361.500000            688.333313  \n",
       "70068       1228.000000           1228.000000  \n",
       "95520        409.176483            493.000000  \n",
       "\n",
       "[9 rows x 48 columns]"
      ],
      "text/html": [
       "<div>\n",
       "<style scoped>\n",
       "    .dataframe tbody tr th:only-of-type {\n",
       "        vertical-align: middle;\n",
       "    }\n",
       "\n",
       "    .dataframe tbody tr th {\n",
       "        vertical-align: top;\n",
       "    }\n",
       "\n",
       "    .dataframe thead th {\n",
       "        text-align: right;\n",
       "    }\n",
       "</style>\n",
       "<table border=\"1\" class=\"dataframe\">\n",
       "  <thead>\n",
       "    <tr style=\"text-align: right;\">\n",
       "      <th></th>\n",
       "      <th>PPI</th>\n",
       "      <th>BYTES</th>\n",
       "      <th>BYTES_REV</th>\n",
       "      <th>PACKETS</th>\n",
       "      <th>PACKETS_REV</th>\n",
       "      <th>DURATION</th>\n",
       "      <th>PPI_LEN</th>\n",
       "      <th>PPI_ROUNDTRIPS</th>\n",
       "      <th>PPI_DURATION</th>\n",
       "      <th>FLOW_ENDREASON_IDLE</th>\n",
       "      <th>...</th>\n",
       "      <th>IPT_BIN3_REV</th>\n",
       "      <th>IPT_BIN4_REV</th>\n",
       "      <th>IPT_BIN5_REV</th>\n",
       "      <th>IPT_BIN6_REV</th>\n",
       "      <th>IPT_BIN7_REV</th>\n",
       "      <th>IPT_BIN8_REV</th>\n",
       "      <th>APP</th>\n",
       "      <th>APP_NAME</th>\n",
       "      <th>BYTES_PER_PACKET</th>\n",
       "      <th>BYTES_PER_PACKET_REV</th>\n",
       "    </tr>\n",
       "  </thead>\n",
       "  <tbody>\n",
       "    <tr>\n",
       "      <th>4894</th>\n",
       "      <td>[[0.0, 1.0, 0.0, 0.0, 0.0, 0.0, 0.0, 0.0, 0.0,...</td>\n",
       "      <td>1228.0</td>\n",
       "      <td>2456.0</td>\n",
       "      <td>1.0</td>\n",
       "      <td>2.0</td>\n",
       "      <td>0.001391</td>\n",
       "      <td>3.0</td>\n",
       "      <td>1.0</td>\n",
       "      <td>0.001</td>\n",
       "      <td>1.0</td>\n",
       "      <td>...</td>\n",
       "      <td>0.0</td>\n",
       "      <td>0.0</td>\n",
       "      <td>0.0</td>\n",
       "      <td>0.0</td>\n",
       "      <td>0.0</td>\n",
       "      <td>0.0</td>\n",
       "      <td>34</td>\n",
       "      <td>instagram</td>\n",
       "      <td>1228.000000</td>\n",
       "      <td>1228.000000</td>\n",
       "    </tr>\n",
       "    <tr>\n",
       "      <th>6963</th>\n",
       "      <td>[[0.0, 1.0, 1.0, 0.0, 0.0, 0.0, 0.0, 0.0, 0.0,...</td>\n",
       "      <td>1228.0</td>\n",
       "      <td>2456.0</td>\n",
       "      <td>1.0</td>\n",
       "      <td>2.0</td>\n",
       "      <td>0.001585</td>\n",
       "      <td>3.0</td>\n",
       "      <td>1.0</td>\n",
       "      <td>0.002</td>\n",
       "      <td>1.0</td>\n",
       "      <td>...</td>\n",
       "      <td>0.0</td>\n",
       "      <td>0.0</td>\n",
       "      <td>0.0</td>\n",
       "      <td>0.0</td>\n",
       "      <td>0.0</td>\n",
       "      <td>0.0</td>\n",
       "      <td>34</td>\n",
       "      <td>instagram</td>\n",
       "      <td>1228.000000</td>\n",
       "      <td>1228.000000</td>\n",
       "    </tr>\n",
       "    <tr>\n",
       "      <th>21324</th>\n",
       "      <td>[[0.0, 1.0, 0.0, 0.0, 0.0, 0.0, 0.0, 0.0, 0.0,...</td>\n",
       "      <td>1228.0</td>\n",
       "      <td>1228.0</td>\n",
       "      <td>1.0</td>\n",
       "      <td>1.0</td>\n",
       "      <td>0.000711</td>\n",
       "      <td>2.0</td>\n",
       "      <td>1.0</td>\n",
       "      <td>0.001</td>\n",
       "      <td>1.0</td>\n",
       "      <td>...</td>\n",
       "      <td>0.0</td>\n",
       "      <td>0.0</td>\n",
       "      <td>0.0</td>\n",
       "      <td>0.0</td>\n",
       "      <td>0.0</td>\n",
       "      <td>0.0</td>\n",
       "      <td>34</td>\n",
       "      <td>instagram</td>\n",
       "      <td>1228.000000</td>\n",
       "      <td>1228.000000</td>\n",
       "    </tr>\n",
       "    <tr>\n",
       "      <th>25116</th>\n",
       "      <td>[[0.0, 1.0, 1.0, 0.0, 0.0, 0.0, 0.0, 0.0, 0.0,...</td>\n",
       "      <td>1228.0</td>\n",
       "      <td>2456.0</td>\n",
       "      <td>1.0</td>\n",
       "      <td>2.0</td>\n",
       "      <td>0.002221</td>\n",
       "      <td>3.0</td>\n",
       "      <td>1.0</td>\n",
       "      <td>0.002</td>\n",
       "      <td>1.0</td>\n",
       "      <td>...</td>\n",
       "      <td>0.0</td>\n",
       "      <td>0.0</td>\n",
       "      <td>0.0</td>\n",
       "      <td>0.0</td>\n",
       "      <td>0.0</td>\n",
       "      <td>0.0</td>\n",
       "      <td>34</td>\n",
       "      <td>instagram</td>\n",
       "      <td>1228.000000</td>\n",
       "      <td>1228.000000</td>\n",
       "    </tr>\n",
       "    <tr>\n",
       "      <th>31642</th>\n",
       "      <td>[[0.0, 13.0, 0.0, 0.0, 0.0, 0.0, 0.0, 0.0, 0.0...</td>\n",
       "      <td>1228.0</td>\n",
       "      <td>1228.0</td>\n",
       "      <td>1.0</td>\n",
       "      <td>1.0</td>\n",
       "      <td>0.012759</td>\n",
       "      <td>2.0</td>\n",
       "      <td>1.0</td>\n",
       "      <td>0.013</td>\n",
       "      <td>1.0</td>\n",
       "      <td>...</td>\n",
       "      <td>0.0</td>\n",
       "      <td>0.0</td>\n",
       "      <td>0.0</td>\n",
       "      <td>0.0</td>\n",
       "      <td>0.0</td>\n",
       "      <td>0.0</td>\n",
       "      <td>34</td>\n",
       "      <td>instagram</td>\n",
       "      <td>1228.000000</td>\n",
       "      <td>1228.000000</td>\n",
       "    </tr>\n",
       "    <tr>\n",
       "      <th>42789</th>\n",
       "      <td>[[0.0, 0.0, 0.0, 0.0, 0.0, 0.0, 0.0, 0.0, 0.0,...</td>\n",
       "      <td>1228.0</td>\n",
       "      <td>1228.0</td>\n",
       "      <td>1.0</td>\n",
       "      <td>1.0</td>\n",
       "      <td>0.000836</td>\n",
       "      <td>2.0</td>\n",
       "      <td>1.0</td>\n",
       "      <td>0.000</td>\n",
       "      <td>1.0</td>\n",
       "      <td>...</td>\n",
       "      <td>0.0</td>\n",
       "      <td>0.0</td>\n",
       "      <td>0.0</td>\n",
       "      <td>0.0</td>\n",
       "      <td>0.0</td>\n",
       "      <td>0.0</td>\n",
       "      <td>34</td>\n",
       "      <td>instagram</td>\n",
       "      <td>1228.000000</td>\n",
       "      <td>1228.000000</td>\n",
       "    </tr>\n",
       "    <tr>\n",
       "      <th>59908</th>\n",
       "      <td>[[0.0, 8.0, 0.0, 0.0, 20.0, 4.0, 1.0, 1.0, 0.0...</td>\n",
       "      <td>2892.0</td>\n",
       "      <td>10325.0</td>\n",
       "      <td>8.0</td>\n",
       "      <td>15.0</td>\n",
       "      <td>6.753503</td>\n",
       "      <td>23.0</td>\n",
       "      <td>5.0</td>\n",
       "      <td>6.754</td>\n",
       "      <td>1.0</td>\n",
       "      <td>...</td>\n",
       "      <td>3.0</td>\n",
       "      <td>0.0</td>\n",
       "      <td>1.0</td>\n",
       "      <td>2.0</td>\n",
       "      <td>1.0</td>\n",
       "      <td>2.0</td>\n",
       "      <td>34</td>\n",
       "      <td>instagram</td>\n",
       "      <td>361.500000</td>\n",
       "      <td>688.333313</td>\n",
       "    </tr>\n",
       "    <tr>\n",
       "      <th>70068</th>\n",
       "      <td>[[0.0, 1.0, 1.0, 0.0, 0.0, 0.0, 0.0, 0.0, 0.0,...</td>\n",
       "      <td>1228.0</td>\n",
       "      <td>2456.0</td>\n",
       "      <td>1.0</td>\n",
       "      <td>2.0</td>\n",
       "      <td>0.002268</td>\n",
       "      <td>3.0</td>\n",
       "      <td>1.0</td>\n",
       "      <td>0.002</td>\n",
       "      <td>1.0</td>\n",
       "      <td>...</td>\n",
       "      <td>0.0</td>\n",
       "      <td>0.0</td>\n",
       "      <td>0.0</td>\n",
       "      <td>0.0</td>\n",
       "      <td>0.0</td>\n",
       "      <td>0.0</td>\n",
       "      <td>34</td>\n",
       "      <td>instagram</td>\n",
       "      <td>1228.000000</td>\n",
       "      <td>1228.000000</td>\n",
       "    </tr>\n",
       "    <tr>\n",
       "      <th>95520</th>\n",
       "      <td>[[0.0, 7.0, 0.0, 0.0, 43.0, 0.0, 6.0, 0.0, 6.0...</td>\n",
       "      <td>6956.0</td>\n",
       "      <td>6409.0</td>\n",
       "      <td>17.0</td>\n",
       "      <td>13.0</td>\n",
       "      <td>0.257932</td>\n",
       "      <td>30.0</td>\n",
       "      <td>5.0</td>\n",
       "      <td>0.258</td>\n",
       "      <td>1.0</td>\n",
       "      <td>...</td>\n",
       "      <td>2.0</td>\n",
       "      <td>1.0</td>\n",
       "      <td>0.0</td>\n",
       "      <td>0.0</td>\n",
       "      <td>0.0</td>\n",
       "      <td>0.0</td>\n",
       "      <td>34</td>\n",
       "      <td>instagram</td>\n",
       "      <td>409.176483</td>\n",
       "      <td>493.000000</td>\n",
       "    </tr>\n",
       "  </tbody>\n",
       "</table>\n",
       "<p>9 rows × 48 columns</p>\n",
       "</div>"
      ]
     },
     "execution_count": 18,
     "metadata": {},
     "output_type": "execute_result"
    }
   ],
   "execution_count": 18
  },
  {
   "metadata": {},
   "cell_type": "markdown",
   "source": "## KMeans",
   "id": "7a83b11279d286eb"
  },
  {
   "metadata": {},
   "cell_type": "markdown",
   "source": "### Clustering",
   "id": "da947a10c134095a"
  },
  {
   "metadata": {},
   "cell_type": "markdown",
   "source": "Cluster the data using KMeans.",
   "id": "23b41f2f14e1c266"
  },
  {
   "metadata": {
    "ExecuteTime": {
     "end_time": "2025-05-05T14:43:40.276837Z",
     "start_time": "2025-05-05T14:43:39.810316Z"
    }
   },
   "cell_type": "code",
   "source": [
    "from sklearn.cluster import KMeans\n",
    "\n",
    "kmeans = KMeans(n_clusters=np.unique(filtered_app_array).shape[0], random_state=42)\n",
    "kmeans.fit(filtered_preprocessed_array)"
   ],
   "id": "981b268ed964f45",
   "outputs": [
    {
     "data": {
      "text/plain": [
       "KMeans(n_clusters=5, random_state=42)"
      ],
      "text/html": [
       "<style>#sk-container-id-1 {\n",
       "  /* Definition of color scheme common for light and dark mode */\n",
       "  --sklearn-color-text: #000;\n",
       "  --sklearn-color-text-muted: #666;\n",
       "  --sklearn-color-line: gray;\n",
       "  /* Definition of color scheme for unfitted estimators */\n",
       "  --sklearn-color-unfitted-level-0: #fff5e6;\n",
       "  --sklearn-color-unfitted-level-1: #f6e4d2;\n",
       "  --sklearn-color-unfitted-level-2: #ffe0b3;\n",
       "  --sklearn-color-unfitted-level-3: chocolate;\n",
       "  /* Definition of color scheme for fitted estimators */\n",
       "  --sklearn-color-fitted-level-0: #f0f8ff;\n",
       "  --sklearn-color-fitted-level-1: #d4ebff;\n",
       "  --sklearn-color-fitted-level-2: #b3dbfd;\n",
       "  --sklearn-color-fitted-level-3: cornflowerblue;\n",
       "\n",
       "  /* Specific color for light theme */\n",
       "  --sklearn-color-text-on-default-background: var(--sg-text-color, var(--theme-code-foreground, var(--jp-content-font-color1, black)));\n",
       "  --sklearn-color-background: var(--sg-background-color, var(--theme-background, var(--jp-layout-color0, white)));\n",
       "  --sklearn-color-border-box: var(--sg-text-color, var(--theme-code-foreground, var(--jp-content-font-color1, black)));\n",
       "  --sklearn-color-icon: #696969;\n",
       "\n",
       "  @media (prefers-color-scheme: dark) {\n",
       "    /* Redefinition of color scheme for dark theme */\n",
       "    --sklearn-color-text-on-default-background: var(--sg-text-color, var(--theme-code-foreground, var(--jp-content-font-color1, white)));\n",
       "    --sklearn-color-background: var(--sg-background-color, var(--theme-background, var(--jp-layout-color0, #111)));\n",
       "    --sklearn-color-border-box: var(--sg-text-color, var(--theme-code-foreground, var(--jp-content-font-color1, white)));\n",
       "    --sklearn-color-icon: #878787;\n",
       "  }\n",
       "}\n",
       "\n",
       "#sk-container-id-1 {\n",
       "  color: var(--sklearn-color-text);\n",
       "}\n",
       "\n",
       "#sk-container-id-1 pre {\n",
       "  padding: 0;\n",
       "}\n",
       "\n",
       "#sk-container-id-1 input.sk-hidden--visually {\n",
       "  border: 0;\n",
       "  clip: rect(1px 1px 1px 1px);\n",
       "  clip: rect(1px, 1px, 1px, 1px);\n",
       "  height: 1px;\n",
       "  margin: -1px;\n",
       "  overflow: hidden;\n",
       "  padding: 0;\n",
       "  position: absolute;\n",
       "  width: 1px;\n",
       "}\n",
       "\n",
       "#sk-container-id-1 div.sk-dashed-wrapped {\n",
       "  border: 1px dashed var(--sklearn-color-line);\n",
       "  margin: 0 0.4em 0.5em 0.4em;\n",
       "  box-sizing: border-box;\n",
       "  padding-bottom: 0.4em;\n",
       "  background-color: var(--sklearn-color-background);\n",
       "}\n",
       "\n",
       "#sk-container-id-1 div.sk-container {\n",
       "  /* jupyter's `normalize.less` sets `[hidden] { display: none; }`\n",
       "     but bootstrap.min.css set `[hidden] { display: none !important; }`\n",
       "     so we also need the `!important` here to be able to override the\n",
       "     default hidden behavior on the sphinx rendered scikit-learn.org.\n",
       "     See: https://github.com/scikit-learn/scikit-learn/issues/21755 */\n",
       "  display: inline-block !important;\n",
       "  position: relative;\n",
       "}\n",
       "\n",
       "#sk-container-id-1 div.sk-text-repr-fallback {\n",
       "  display: none;\n",
       "}\n",
       "\n",
       "div.sk-parallel-item,\n",
       "div.sk-serial,\n",
       "div.sk-item {\n",
       "  /* draw centered vertical line to link estimators */\n",
       "  background-image: linear-gradient(var(--sklearn-color-text-on-default-background), var(--sklearn-color-text-on-default-background));\n",
       "  background-size: 2px 100%;\n",
       "  background-repeat: no-repeat;\n",
       "  background-position: center center;\n",
       "}\n",
       "\n",
       "/* Parallel-specific style estimator block */\n",
       "\n",
       "#sk-container-id-1 div.sk-parallel-item::after {\n",
       "  content: \"\";\n",
       "  width: 100%;\n",
       "  border-bottom: 2px solid var(--sklearn-color-text-on-default-background);\n",
       "  flex-grow: 1;\n",
       "}\n",
       "\n",
       "#sk-container-id-1 div.sk-parallel {\n",
       "  display: flex;\n",
       "  align-items: stretch;\n",
       "  justify-content: center;\n",
       "  background-color: var(--sklearn-color-background);\n",
       "  position: relative;\n",
       "}\n",
       "\n",
       "#sk-container-id-1 div.sk-parallel-item {\n",
       "  display: flex;\n",
       "  flex-direction: column;\n",
       "}\n",
       "\n",
       "#sk-container-id-1 div.sk-parallel-item:first-child::after {\n",
       "  align-self: flex-end;\n",
       "  width: 50%;\n",
       "}\n",
       "\n",
       "#sk-container-id-1 div.sk-parallel-item:last-child::after {\n",
       "  align-self: flex-start;\n",
       "  width: 50%;\n",
       "}\n",
       "\n",
       "#sk-container-id-1 div.sk-parallel-item:only-child::after {\n",
       "  width: 0;\n",
       "}\n",
       "\n",
       "/* Serial-specific style estimator block */\n",
       "\n",
       "#sk-container-id-1 div.sk-serial {\n",
       "  display: flex;\n",
       "  flex-direction: column;\n",
       "  align-items: center;\n",
       "  background-color: var(--sklearn-color-background);\n",
       "  padding-right: 1em;\n",
       "  padding-left: 1em;\n",
       "}\n",
       "\n",
       "\n",
       "/* Toggleable style: style used for estimator/Pipeline/ColumnTransformer box that is\n",
       "clickable and can be expanded/collapsed.\n",
       "- Pipeline and ColumnTransformer use this feature and define the default style\n",
       "- Estimators will overwrite some part of the style using the `sk-estimator` class\n",
       "*/\n",
       "\n",
       "/* Pipeline and ColumnTransformer style (default) */\n",
       "\n",
       "#sk-container-id-1 div.sk-toggleable {\n",
       "  /* Default theme specific background. It is overwritten whether we have a\n",
       "  specific estimator or a Pipeline/ColumnTransformer */\n",
       "  background-color: var(--sklearn-color-background);\n",
       "}\n",
       "\n",
       "/* Toggleable label */\n",
       "#sk-container-id-1 label.sk-toggleable__label {\n",
       "  cursor: pointer;\n",
       "  display: flex;\n",
       "  width: 100%;\n",
       "  margin-bottom: 0;\n",
       "  padding: 0.5em;\n",
       "  box-sizing: border-box;\n",
       "  text-align: center;\n",
       "  align-items: start;\n",
       "  justify-content: space-between;\n",
       "  gap: 0.5em;\n",
       "}\n",
       "\n",
       "#sk-container-id-1 label.sk-toggleable__label .caption {\n",
       "  font-size: 0.6rem;\n",
       "  font-weight: lighter;\n",
       "  color: var(--sklearn-color-text-muted);\n",
       "}\n",
       "\n",
       "#sk-container-id-1 label.sk-toggleable__label-arrow:before {\n",
       "  /* Arrow on the left of the label */\n",
       "  content: \"▸\";\n",
       "  float: left;\n",
       "  margin-right: 0.25em;\n",
       "  color: var(--sklearn-color-icon);\n",
       "}\n",
       "\n",
       "#sk-container-id-1 label.sk-toggleable__label-arrow:hover:before {\n",
       "  color: var(--sklearn-color-text);\n",
       "}\n",
       "\n",
       "/* Toggleable content - dropdown */\n",
       "\n",
       "#sk-container-id-1 div.sk-toggleable__content {\n",
       "  max-height: 0;\n",
       "  max-width: 0;\n",
       "  overflow: hidden;\n",
       "  text-align: left;\n",
       "  /* unfitted */\n",
       "  background-color: var(--sklearn-color-unfitted-level-0);\n",
       "}\n",
       "\n",
       "#sk-container-id-1 div.sk-toggleable__content.fitted {\n",
       "  /* fitted */\n",
       "  background-color: var(--sklearn-color-fitted-level-0);\n",
       "}\n",
       "\n",
       "#sk-container-id-1 div.sk-toggleable__content pre {\n",
       "  margin: 0.2em;\n",
       "  border-radius: 0.25em;\n",
       "  color: var(--sklearn-color-text);\n",
       "  /* unfitted */\n",
       "  background-color: var(--sklearn-color-unfitted-level-0);\n",
       "}\n",
       "\n",
       "#sk-container-id-1 div.sk-toggleable__content.fitted pre {\n",
       "  /* unfitted */\n",
       "  background-color: var(--sklearn-color-fitted-level-0);\n",
       "}\n",
       "\n",
       "#sk-container-id-1 input.sk-toggleable__control:checked~div.sk-toggleable__content {\n",
       "  /* Expand drop-down */\n",
       "  max-height: 200px;\n",
       "  max-width: 100%;\n",
       "  overflow: auto;\n",
       "}\n",
       "\n",
       "#sk-container-id-1 input.sk-toggleable__control:checked~label.sk-toggleable__label-arrow:before {\n",
       "  content: \"▾\";\n",
       "}\n",
       "\n",
       "/* Pipeline/ColumnTransformer-specific style */\n",
       "\n",
       "#sk-container-id-1 div.sk-label input.sk-toggleable__control:checked~label.sk-toggleable__label {\n",
       "  color: var(--sklearn-color-text);\n",
       "  background-color: var(--sklearn-color-unfitted-level-2);\n",
       "}\n",
       "\n",
       "#sk-container-id-1 div.sk-label.fitted input.sk-toggleable__control:checked~label.sk-toggleable__label {\n",
       "  background-color: var(--sklearn-color-fitted-level-2);\n",
       "}\n",
       "\n",
       "/* Estimator-specific style */\n",
       "\n",
       "/* Colorize estimator box */\n",
       "#sk-container-id-1 div.sk-estimator input.sk-toggleable__control:checked~label.sk-toggleable__label {\n",
       "  /* unfitted */\n",
       "  background-color: var(--sklearn-color-unfitted-level-2);\n",
       "}\n",
       "\n",
       "#sk-container-id-1 div.sk-estimator.fitted input.sk-toggleable__control:checked~label.sk-toggleable__label {\n",
       "  /* fitted */\n",
       "  background-color: var(--sklearn-color-fitted-level-2);\n",
       "}\n",
       "\n",
       "#sk-container-id-1 div.sk-label label.sk-toggleable__label,\n",
       "#sk-container-id-1 div.sk-label label {\n",
       "  /* The background is the default theme color */\n",
       "  color: var(--sklearn-color-text-on-default-background);\n",
       "}\n",
       "\n",
       "/* On hover, darken the color of the background */\n",
       "#sk-container-id-1 div.sk-label:hover label.sk-toggleable__label {\n",
       "  color: var(--sklearn-color-text);\n",
       "  background-color: var(--sklearn-color-unfitted-level-2);\n",
       "}\n",
       "\n",
       "/* Label box, darken color on hover, fitted */\n",
       "#sk-container-id-1 div.sk-label.fitted:hover label.sk-toggleable__label.fitted {\n",
       "  color: var(--sklearn-color-text);\n",
       "  background-color: var(--sklearn-color-fitted-level-2);\n",
       "}\n",
       "\n",
       "/* Estimator label */\n",
       "\n",
       "#sk-container-id-1 div.sk-label label {\n",
       "  font-family: monospace;\n",
       "  font-weight: bold;\n",
       "  display: inline-block;\n",
       "  line-height: 1.2em;\n",
       "}\n",
       "\n",
       "#sk-container-id-1 div.sk-label-container {\n",
       "  text-align: center;\n",
       "}\n",
       "\n",
       "/* Estimator-specific */\n",
       "#sk-container-id-1 div.sk-estimator {\n",
       "  font-family: monospace;\n",
       "  border: 1px dotted var(--sklearn-color-border-box);\n",
       "  border-radius: 0.25em;\n",
       "  box-sizing: border-box;\n",
       "  margin-bottom: 0.5em;\n",
       "  /* unfitted */\n",
       "  background-color: var(--sklearn-color-unfitted-level-0);\n",
       "}\n",
       "\n",
       "#sk-container-id-1 div.sk-estimator.fitted {\n",
       "  /* fitted */\n",
       "  background-color: var(--sklearn-color-fitted-level-0);\n",
       "}\n",
       "\n",
       "/* on hover */\n",
       "#sk-container-id-1 div.sk-estimator:hover {\n",
       "  /* unfitted */\n",
       "  background-color: var(--sklearn-color-unfitted-level-2);\n",
       "}\n",
       "\n",
       "#sk-container-id-1 div.sk-estimator.fitted:hover {\n",
       "  /* fitted */\n",
       "  background-color: var(--sklearn-color-fitted-level-2);\n",
       "}\n",
       "\n",
       "/* Specification for estimator info (e.g. \"i\" and \"?\") */\n",
       "\n",
       "/* Common style for \"i\" and \"?\" */\n",
       "\n",
       ".sk-estimator-doc-link,\n",
       "a:link.sk-estimator-doc-link,\n",
       "a:visited.sk-estimator-doc-link {\n",
       "  float: right;\n",
       "  font-size: smaller;\n",
       "  line-height: 1em;\n",
       "  font-family: monospace;\n",
       "  background-color: var(--sklearn-color-background);\n",
       "  border-radius: 1em;\n",
       "  height: 1em;\n",
       "  width: 1em;\n",
       "  text-decoration: none !important;\n",
       "  margin-left: 0.5em;\n",
       "  text-align: center;\n",
       "  /* unfitted */\n",
       "  border: var(--sklearn-color-unfitted-level-1) 1pt solid;\n",
       "  color: var(--sklearn-color-unfitted-level-1);\n",
       "}\n",
       "\n",
       ".sk-estimator-doc-link.fitted,\n",
       "a:link.sk-estimator-doc-link.fitted,\n",
       "a:visited.sk-estimator-doc-link.fitted {\n",
       "  /* fitted */\n",
       "  border: var(--sklearn-color-fitted-level-1) 1pt solid;\n",
       "  color: var(--sklearn-color-fitted-level-1);\n",
       "}\n",
       "\n",
       "/* On hover */\n",
       "div.sk-estimator:hover .sk-estimator-doc-link:hover,\n",
       ".sk-estimator-doc-link:hover,\n",
       "div.sk-label-container:hover .sk-estimator-doc-link:hover,\n",
       ".sk-estimator-doc-link:hover {\n",
       "  /* unfitted */\n",
       "  background-color: var(--sklearn-color-unfitted-level-3);\n",
       "  color: var(--sklearn-color-background);\n",
       "  text-decoration: none;\n",
       "}\n",
       "\n",
       "div.sk-estimator.fitted:hover .sk-estimator-doc-link.fitted:hover,\n",
       ".sk-estimator-doc-link.fitted:hover,\n",
       "div.sk-label-container:hover .sk-estimator-doc-link.fitted:hover,\n",
       ".sk-estimator-doc-link.fitted:hover {\n",
       "  /* fitted */\n",
       "  background-color: var(--sklearn-color-fitted-level-3);\n",
       "  color: var(--sklearn-color-background);\n",
       "  text-decoration: none;\n",
       "}\n",
       "\n",
       "/* Span, style for the box shown on hovering the info icon */\n",
       ".sk-estimator-doc-link span {\n",
       "  display: none;\n",
       "  z-index: 9999;\n",
       "  position: relative;\n",
       "  font-weight: normal;\n",
       "  right: .2ex;\n",
       "  padding: .5ex;\n",
       "  margin: .5ex;\n",
       "  width: min-content;\n",
       "  min-width: 20ex;\n",
       "  max-width: 50ex;\n",
       "  color: var(--sklearn-color-text);\n",
       "  box-shadow: 2pt 2pt 4pt #999;\n",
       "  /* unfitted */\n",
       "  background: var(--sklearn-color-unfitted-level-0);\n",
       "  border: .5pt solid var(--sklearn-color-unfitted-level-3);\n",
       "}\n",
       "\n",
       ".sk-estimator-doc-link.fitted span {\n",
       "  /* fitted */\n",
       "  background: var(--sklearn-color-fitted-level-0);\n",
       "  border: var(--sklearn-color-fitted-level-3);\n",
       "}\n",
       "\n",
       ".sk-estimator-doc-link:hover span {\n",
       "  display: block;\n",
       "}\n",
       "\n",
       "/* \"?\"-specific style due to the `<a>` HTML tag */\n",
       "\n",
       "#sk-container-id-1 a.estimator_doc_link {\n",
       "  float: right;\n",
       "  font-size: 1rem;\n",
       "  line-height: 1em;\n",
       "  font-family: monospace;\n",
       "  background-color: var(--sklearn-color-background);\n",
       "  border-radius: 1rem;\n",
       "  height: 1rem;\n",
       "  width: 1rem;\n",
       "  text-decoration: none;\n",
       "  /* unfitted */\n",
       "  color: var(--sklearn-color-unfitted-level-1);\n",
       "  border: var(--sklearn-color-unfitted-level-1) 1pt solid;\n",
       "}\n",
       "\n",
       "#sk-container-id-1 a.estimator_doc_link.fitted {\n",
       "  /* fitted */\n",
       "  border: var(--sklearn-color-fitted-level-1) 1pt solid;\n",
       "  color: var(--sklearn-color-fitted-level-1);\n",
       "}\n",
       "\n",
       "/* On hover */\n",
       "#sk-container-id-1 a.estimator_doc_link:hover {\n",
       "  /* unfitted */\n",
       "  background-color: var(--sklearn-color-unfitted-level-3);\n",
       "  color: var(--sklearn-color-background);\n",
       "  text-decoration: none;\n",
       "}\n",
       "\n",
       "#sk-container-id-1 a.estimator_doc_link.fitted:hover {\n",
       "  /* fitted */\n",
       "  background-color: var(--sklearn-color-fitted-level-3);\n",
       "}\n",
       "</style><div id=\"sk-container-id-1\" class=\"sk-top-container\"><div class=\"sk-text-repr-fallback\"><pre>KMeans(n_clusters=5, random_state=42)</pre><b>In a Jupyter environment, please rerun this cell to show the HTML representation or trust the notebook. <br />On GitHub, the HTML representation is unable to render, please try loading this page with nbviewer.org.</b></div><div class=\"sk-container\" hidden><div class=\"sk-item\"><div class=\"sk-estimator fitted sk-toggleable\"><input class=\"sk-toggleable__control sk-hidden--visually\" id=\"sk-estimator-id-1\" type=\"checkbox\" checked><label for=\"sk-estimator-id-1\" class=\"sk-toggleable__label fitted sk-toggleable__label-arrow\"><div><div>KMeans</div></div><div><a class=\"sk-estimator-doc-link fitted\" rel=\"noreferrer\" target=\"_blank\" href=\"https://scikit-learn.org/1.6/modules/generated/sklearn.cluster.KMeans.html\">?<span>Documentation for KMeans</span></a><span class=\"sk-estimator-doc-link fitted\">i<span>Fitted</span></span></div></label><div class=\"sk-toggleable__content fitted\"><pre>KMeans(n_clusters=5, random_state=42)</pre></div> </div></div></div></div>"
      ]
     },
     "execution_count": 19,
     "metadata": {},
     "output_type": "execute_result"
    }
   ],
   "execution_count": 19
  },
  {
   "metadata": {},
   "cell_type": "markdown",
   "source": "Count of clusters.",
   "id": "5dc7972b362634c3"
  },
  {
   "metadata": {
    "ExecuteTime": {
     "end_time": "2025-05-05T14:43:40.524779Z",
     "start_time": "2025-05-05T14:43:40.514913Z"
    }
   },
   "cell_type": "code",
   "source": "np.unique(kmeans.labels_, return_counts=True)",
   "id": "e2589d3b05b4c15f",
   "outputs": [
    {
     "data": {
      "text/plain": [
       "(array([0, 1, 2, 3, 4], dtype=int32), array([  3, 205,  39,  47,   7]))"
      ]
     },
     "execution_count": 20,
     "metadata": {},
     "output_type": "execute_result"
    }
   ],
   "execution_count": 20
  },
  {
   "metadata": {
    "ExecuteTime": {
     "end_time": "2025-05-05T14:43:41.460036Z",
     "start_time": "2025-05-05T14:43:41.366472Z"
    }
   },
   "cell_type": "code",
   "source": [
    "from sklearn.cluster import KMeans\n",
    "\n",
    "NUMBER_OF_MULTIPLIERS = 3\n",
    "\n",
    "number_of_clusters = np.unique(filtered_app_array).shape[0]\n",
    "\n",
    "kmeans_partitions = []\n",
    "\n",
    "for cluster_multiplier in range(1, NUMBER_OF_MULTIPLIERS+1):\n",
    "    kmeans = KMeans(n_clusters=number_of_clusters * cluster_multiplier, random_state=42)\n",
    "    kmeans.fit(filtered_preprocessed_array)\n",
    "    kmeans_partitions.append(kmeans.labels_)"
   ],
   "id": "ebef8e9b0ef6174e",
   "outputs": [],
   "execution_count": 21
  },
  {
   "metadata": {
    "ExecuteTime": {
     "end_time": "2025-05-05T14:43:42.489351Z",
     "start_time": "2025-05-05T14:43:41.851874Z"
    }
   },
   "cell_type": "code",
   "source": [
    "from sklearn.metrics.cluster import homogeneity_score\n",
    "\n",
    "fig, ax = plt.subplots(figsize=(12, 8))\n",
    "ax.plot(range(number_of_clusters, number_of_clusters * (NUMBER_OF_MULTIPLIERS + 1), number_of_clusters), [homogeneity_score(filtered_app_array, kmeans) for kmeans in kmeans_partitions], marker='o')\n",
    "ax.set_title(\"Homogeneity score of KMeans clustering\")\n",
    "ax.set_xlabel(\"Number of clusters\")\n",
    "ax.set_ylabel(\"Homogeneity score\")\n",
    "ax.set_xticks(range(number_of_clusters, number_of_clusters * (NUMBER_OF_MULTIPLIERS + 1), number_of_clusters))\n",
    "plt.show()\n",
    "fig.savefig(\"kmeans_homogeneity.png\", bbox_inches='tight')"
   ],
   "id": "12a2f58cbd617633",
   "outputs": [
    {
     "data": {
      "text/plain": [
       "<Figure size 1200x800 with 1 Axes>"
      ],
      "image/png": "[encoded data removed]"
     },
     "metadata": {},
     "output_type": "display_data"
    }
   ],
   "execution_count": 22
  },
  {
   "metadata": {
    "ExecuteTime": {
     "end_time": "2025-05-05T14:43:42.934115Z",
     "start_time": "2025-05-05T14:43:42.528818Z"
    }
   },
   "cell_type": "code",
   "source": [
    "from sklearn.metrics.cluster import normalized_mutual_info_score\n",
    "\n",
    "fig, ax = plt.subplots(figsize=(12, 8))\n",
    "ax.plot(range(number_of_clusters, number_of_clusters * (NUMBER_OF_MULTIPLIERS + 1), number_of_clusters), [normalized_mutual_info_score(filtered_app_array, kmeans) for kmeans in kmeans_partitions], marker='o')\n",
    "ax.set_title(\"NMI score of KMeans clustering\")\n",
    "ax.set_xlabel(\"Number of clusters\")\n",
    "ax.set_ylabel(\"NMI score\")\n",
    "ax.set_xticks(range(number_of_clusters, number_of_clusters * (NUMBER_OF_MULTIPLIERS + 1), number_of_clusters))\n",
    "plt.show()\n",
    "fig.savefig(\"kmeans_nmi.png\", bbox_inches='tight')"
   ],
   "id": "5123fdb549e34058",
   "outputs": [
    {
     "data": {
      "text/plain": [
       "<Figure size 1200x800 with 1 Axes>"
      ],
      "image/png": "[encoded data removed]"
     },
     "metadata": {},
     "output_type": "display_data"
    }
   ],
   "execution_count": 23
  },
  {
   "metadata": {},
   "cell_type": "markdown",
   "source": "### Evaluation",
   "id": "278a6c801c6ac0de"
  },
  {
   "metadata": {
    "ExecuteTime": {
     "end_time": "2025-05-05T14:43:42.957118Z",
     "start_time": "2025-05-05T14:43:42.944945Z"
    }
   },
   "cell_type": "code",
   "source": [
    "from sklearn.metrics.cluster import homogeneity_score\n",
    "\n",
    "homogeneity_score(filtered_app_array, kmeans.labels_)"
   ],
   "id": "e2256d518b2b6d01",
   "outputs": [
    {
     "data": {
      "text/plain": [
       "0.9271421367205621"
      ]
     },
     "execution_count": 24,
     "metadata": {},
     "output_type": "execute_result"
    }
   ],
   "execution_count": 24
  },
  {
   "metadata": {
    "ExecuteTime": {
     "end_time": "2025-05-05T14:43:43.031053Z",
     "start_time": "2025-05-05T14:43:43.022255Z"
    }
   },
   "cell_type": "code",
   "source": [
    "from sklearn.metrics.cluster import normalized_mutual_info_score\n",
    "\n",
    "normalized_mutual_info_score(filtered_app_array, kmeans.labels_)"
   ],
   "id": "f03b36a248fb0e00",
   "outputs": [
    {
     "data": {
      "text/plain": [
       "0.6101019527785349"
      ]
     },
     "execution_count": 25,
     "metadata": {},
     "output_type": "execute_result"
    }
   ],
   "execution_count": 25
  },
  {
   "metadata": {},
   "cell_type": "markdown",
   "source": "## DBSCAN",
   "id": "9a870c2cd28fd034"
  },
  {
   "metadata": {},
   "cell_type": "markdown",
   "source": "### Preparation",
   "id": "19569b41f6ff215"
  },
  {
   "metadata": {},
   "cell_type": "markdown",
   "source": "Let's start with elbow method to find the optimal number of clusters.",
   "id": "aac08df182192328"
  },
  {
   "metadata": {
    "ExecuteTime": {
     "end_time": "2025-05-05T14:43:43.106226Z",
     "start_time": "2025-05-05T14:43:43.094970Z"
    }
   },
   "cell_type": "code",
   "source": [
    "from sklearn.neighbors import NearestNeighbors\n",
    "from matplotlib import pyplot as plt\n",
    "\n",
    "# If your data has more than 2 dimensions, choose MinPts = 2*dim, where dim= the dimensions of your data set (Sander et al., 1998).\n",
    "neighbors = NearestNeighbors(n_neighbors=16).fit(filtered_preprocessed_array)\n",
    "distances, _ = neighbors.kneighbors(filtered_preprocessed_array)"
   ],
   "id": "54b0c4d983579431",
   "outputs": [],
   "execution_count": 26
  },
  {
   "metadata": {
    "ExecuteTime": {
     "end_time": "2025-05-05T14:43:43.339623Z",
     "start_time": "2025-05-05T14:43:43.170009Z"
    }
   },
   "cell_type": "code",
   "source": [
    "distances = np.sort(distances, axis=0)\n",
    "plt.plot(distances[:,1])\n",
    "plt.axis([60, 100, 0, 1.5])"
   ],
   "id": "b6c2d7fdfdb6e09a",
   "outputs": [
    {
     "data": {
      "text/plain": [
       "(60.0, 100.0, 0.0, 1.5)"
      ]
     },
     "execution_count": 27,
     "metadata": {},
     "output_type": "execute_result"
    },
    {
     "data": {
      "text/plain": [
       "<Figure size 640x480 with 1 Axes>"
      ],
      "image/png": "[encoded data removed]"
     },
     "metadata": {},
     "output_type": "display_data"
    }
   ],
   "execution_count": 27
  },
  {
   "metadata": {},
   "cell_type": "markdown",
   "source": "### Clustering",
   "id": "bc045e7adb83cefd"
  },
  {
   "metadata": {},
   "cell_type": "markdown",
   "source": "DBSCAN clustering.",
   "id": "683ab3adbecac4f5"
  },
  {
   "metadata": {
    "ExecuteTime": {
     "end_time": "2025-05-05T14:43:43.373103Z",
     "start_time": "2025-05-05T14:43:43.361514Z"
    }
   },
   "cell_type": "code",
   "source": [
    "from sklearn.cluster import DBSCAN\n",
    "\n",
    "dbscan = DBSCAN(eps=1, min_samples=7).fit(filtered_preprocessed_array)"
   ],
   "id": "fbf24937a3bfabec",
   "outputs": [],
   "execution_count": 28
  },
  {
   "metadata": {
    "ExecuteTime": {
     "end_time": "2025-05-05T14:43:43.411328Z",
     "start_time": "2025-05-05T14:43:43.406091Z"
    }
   },
   "cell_type": "code",
   "source": "np.unique(dbscan.labels_, return_counts=True)",
   "id": "93419b4195061dd0",
   "outputs": [
    {
     "data": {
      "text/plain": [
       "(array([-1,  0,  1,  2,  3]), array([ 16, 201,  38,  39,   7]))"
      ]
     },
     "execution_count": 29,
     "metadata": {},
     "output_type": "execute_result"
    }
   ],
   "execution_count": 29
  },
  {
   "metadata": {},
   "cell_type": "markdown",
   "source": "### Evaluation",
   "id": "62ef090e3fecc37a"
  },
  {
   "metadata": {
    "ExecuteTime": {
     "end_time": "2025-05-05T14:43:43.527754Z",
     "start_time": "2025-05-05T14:43:43.522137Z"
    }
   },
   "cell_type": "code",
   "source": "homogeneity_score(filtered_app_array, dbscan.labels_)",
   "id": "dd0ab7fb832973ef",
   "outputs": [
    {
     "data": {
      "text/plain": [
       "0.8685972554232859"
      ]
     },
     "execution_count": 30,
     "metadata": {},
     "output_type": "execute_result"
    }
   ],
   "execution_count": 30
  },
  {
   "metadata": {
    "ExecuteTime": {
     "end_time": "2025-05-05T14:43:43.625342Z",
     "start_time": "2025-05-05T14:43:43.615858Z"
    }
   },
   "cell_type": "code",
   "source": "normalized_mutual_info_score(filtered_app_array, dbscan.labels_)",
   "id": "c096471294319035",
   "outputs": [
    {
     "data": {
      "text/plain": [
       "0.8613187481906424"
      ]
     },
     "execution_count": 31,
     "metadata": {},
     "output_type": "execute_result"
    }
   ],
   "execution_count": 31
  },
  {
   "metadata": {},
   "cell_type": "markdown",
   "source": "# HDBSCAN",
   "id": "162f95d29b7ee4b6"
  },
  {
   "metadata": {
    "ExecuteTime": {
     "end_time": "2025-05-05T14:43:43.737909Z",
     "start_time": "2025-05-05T14:43:43.723231Z"
    }
   },
   "cell_type": "code",
   "source": [
    "from sklearn.cluster import HDBSCAN\n",
    "\n",
    "hdbscan = HDBSCAN(min_samples=7).fit(filtered_preprocessed_array)"
   ],
   "id": "63948110b3652721",
   "outputs": [],
   "execution_count": 32
  },
  {
   "metadata": {
    "ExecuteTime": {
     "end_time": "2025-05-05T14:43:43.804996Z",
     "start_time": "2025-05-05T14:43:43.797866Z"
    }
   },
   "cell_type": "code",
   "source": "np.unique(hdbscan.labels_, return_counts=True)",
   "id": "e5e7c37ae6d3aa5f",
   "outputs": [
    {
     "data": {
      "text/plain": [
       "(array([-1,  0,  1,  2,  3,  4,  5,  6,  7,  8,  9, 10, 11]),\n",
       " array([65,  7, 39, 43, 15, 12, 38, 10,  9,  7, 19, 23, 14]))"
      ]
     },
     "execution_count": 33,
     "metadata": {},
     "output_type": "execute_result"
    }
   ],
   "execution_count": 33
  },
  {
   "metadata": {
    "ExecuteTime": {
     "end_time": "2025-05-05T14:43:43.886926Z",
     "start_time": "2025-05-05T14:43:43.876920Z"
    }
   },
   "cell_type": "code",
   "source": "homogeneity_score(filtered_app_array, hdbscan.labels_)",
   "id": "dcb70d4ac83175b0",
   "outputs": [
    {
     "data": {
      "text/plain": [
       "0.8460415716472369"
      ]
     },
     "execution_count": 34,
     "metadata": {},
     "output_type": "execute_result"
    }
   ],
   "execution_count": 34
  },
  {
   "metadata": {
    "ExecuteTime": {
     "end_time": "2025-05-05T14:43:43.960108Z",
     "start_time": "2025-05-05T14:43:43.950034Z"
    }
   },
   "cell_type": "code",
   "source": "normalized_mutual_info_score(filtered_app_array, hdbscan.labels_)",
   "id": "7eecf9f6037057db",
   "outputs": [
    {
     "data": {
      "text/plain": [
       "0.517481328295092"
      ]
     },
     "execution_count": 35,
     "metadata": {},
     "output_type": "execute_result"
    }
   ],
   "execution_count": 35
  },
  {
   "metadata": {},
   "cell_type": "markdown",
   "source": "## Visualization",
   "id": "c20332b1af0c3c3e"
  },
  {
   "metadata": {
    "ExecuteTime": {
     "end_time": "2025-05-05T14:43:46.136975Z",
     "start_time": "2025-05-05T14:43:44.088401Z"
    }
   },
   "cell_type": "code",
   "source": [
    "from sklearn.manifold import TSNE\n",
    "\n",
    "tsne = TSNE(n_components=2, random_state=42)\n",
    "tsne_array = tsne.fit_transform(filtered_preprocessed_array)\n",
    "\n",
    "fig, ax = plt.subplots(figsize=(10, 10))\n",
    "plt.rcParams.update({'font.size': 26})\n",
    "# scatter = ax.scatter(tsne_array[:, 0], tsne_array[:, 1], c=filtered_app_array, cmap='viridis', s=60)\n",
    "scatter = ax.scatter(tsne_array[:, 0], tsne_array[:, 1], c=hdbscan.labels_, cmap='viridis', s=60)\n",
    "legend = ax.legend(*scatter.legend_elements(), title=\"Clusters\")\n",
    "ax.set_title(\"t-SNE visualization of the dataset\")\n",
    "ax.set_xlabel(\"t-SNE component 1\")\n",
    "ax.set_ylabel(\"t-SNE component 2\")\n",
    "ax.add_artist(legend)\n",
    "plt.show()\n",
    "fig.savefig(\"hdbscan.png\", bbox_inches='tight')"
   ],
   "id": "2726d636b6b7d636",
   "outputs": [
    {
     "data": {
      "text/plain": [
       "<Figure size 1000x1000 with 1 Axes>"
      ],
      "image/png": "[encoded data removed]"
     },
     "metadata": {},
     "output_type": "display_data"
    }
   ],
   "execution_count": 36
  }
 ],
 "metadata": {
  "kernelspec": {
   "display_name": "Python 3",
   "language": "python",
   "name": "python3"
  },
  "language_info": {
   "codemirror_mode": {
    "name": "ipython",
    "version": 2
   },
   "file_extension": ".py",
   "mimetype": "text/x-python",
   "name": "python",
   "nbconvert_exporter": "python",
   "pygments_lexer": "ipython2",
   "version": "2.7.6"
  }
 },
 "nbformat": 4,
 "nbformat_minor": 5
}
